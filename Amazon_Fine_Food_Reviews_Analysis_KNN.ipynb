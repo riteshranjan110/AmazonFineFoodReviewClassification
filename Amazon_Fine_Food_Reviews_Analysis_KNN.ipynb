{
 "cells": [
  {
   "cell_type": "markdown",
   "metadata": {},
   "source": [
    "# Amazon Fine Food Reviews Analysis\n",
    "\n",
    "\n",
    "Data Source: https://www.kaggle.com/snap/amazon-fine-food-reviews <br>\n",
    "\n",
    "EDA: https://nycdatascience.com/blog/student-works/amazon-fine-foods-visualization/\n",
    "\n",
    "\n",
    "The Amazon Fine Food Reviews dataset consists of reviews of fine foods from Amazon.<br>\n",
    "\n",
    "Number of reviews: 568,454<br>\n",
    "Number of users: 256,059<br>\n",
    "Number of products: 74,258<br>\n",
    "Timespan: Oct 1999 - Oct 2012<br>\n",
    "Number of Attributes/Columns in data: 10 \n",
    "\n",
    "Attribute Information:\n",
    "\n",
    "1. Id\n",
    "2. ProductId - unique identifier for the product\n",
    "3. UserId - unqiue identifier for the user\n",
    "4. ProfileName\n",
    "5. HelpfulnessNumerator - number of users who found the review helpful\n",
    "6. HelpfulnessDenominator - number of users who indicated whether they found the review helpful or not\n",
    "7. Score - rating between 1 and 5\n",
    "8. Time - timestamp for the review\n",
    "9. Summary - brief summary of the review\n",
    "10. Text - text of the review\n",
    "\n",
    "\n",
    "#### Objective:\n",
    "Given a review, determine whether the review is positive (rating of 4 or 5) or negative (rating of 1 or 2).\n",
    "\n",
    "<br>\n",
    "[Q] How to determine if a review is positive or negative?<br>\n",
    "<br> \n",
    "[Ans] We could use Score/Rating. A rating of 4 or 5 can be cosnidered as a positive review. A rating of 1 or 2 can be considered as negative one. A review of rating 3 is considered nuetral and such reviews are ignored from our analysis. This is an approximate and proxy way of determining the polarity (positivity/negativity) of a review.\n",
    "\n",
    "\n"
   ]
  },
  {
   "cell_type": "markdown",
   "metadata": {},
   "source": [
    "# [1]. Reading Data"
   ]
  },
  {
   "cell_type": "markdown",
   "metadata": {},
   "source": [
    "## [1.1] Loading the data\n",
    "\n",
    "The dataset is available in two forms\n",
    "1. .csv file\n",
    "2. SQLite Database\n",
    "\n",
    "In order to load the data, We have used the SQLITE dataset as it is easier to query the data and visualise the data efficiently.\n",
    "<br> \n",
    "\n",
    "Here as we only want to get the global sentiment of the recommendations (positive or negative), we will purposefully ignore all Scores equal to 3. If the score is above 3, then the recommendation wil be set to \"positive\". Otherwise, it will be set to \"negative\"."
   ]
  },
  {
   "cell_type": "code",
   "execution_count": 1,
   "metadata": {},
   "outputs": [
    {
     "name": "stderr",
     "output_type": "stream",
     "text": [
      "C:\\Users\\rites\\Anaconda3\\lib\\site-packages\\sklearn\\cross_validation.py:41: DeprecationWarning: This module was deprecated in version 0.18 in favor of the model_selection module into which all the refactored classes and functions are moved. Also note that the interface of the new CV iterators are different from that of this module. This module will be removed in 0.20.\n",
      "  \"This module will be removed in 0.20.\", DeprecationWarning)\n"
     ]
    }
   ],
   "source": [
    "%matplotlib inline\n",
    "import warnings\n",
    "warnings.filterwarnings(\"ignore\")\n",
    "\n",
    "\n",
    "import sqlite3\n",
    "import pandas as pd\n",
    "import numpy as np\n",
    "import nltk\n",
    "import string\n",
    "import matplotlib.pyplot as plt\n",
    "import seaborn as sns\n",
    "from sklearn.feature_extraction.text import TfidfTransformer\n",
    "from sklearn.feature_extraction.text import TfidfVectorizer\n",
    "\n",
    "from sklearn.feature_extraction.text import CountVectorizer\n",
    "from sklearn.metrics import confusion_matrix\n",
    "from sklearn import metrics\n",
    "from sklearn.metrics import roc_curve, auc\n",
    "from nltk.stem.porter import PorterStemmer\n",
    "\n",
    "import re\n",
    "# Tutorial about Python regular expressions: https://pymotw.com/2/re/\n",
    "import string\n",
    "from nltk.corpus import stopwords\n",
    "from nltk.stem import PorterStemmer\n",
    "from nltk.stem.wordnet import WordNetLemmatizer\n",
    "\n",
    "from gensim.models import Word2Vec\n",
    "from gensim.models import KeyedVectors\n",
    "import pickle\n",
    "\n",
    "from tqdm import tqdm\n",
    "import os\n",
    "\n",
    "from sklearn.neighbors import KNeighborsClassifier\n",
    "from sklearn.cross_validation import train_test_split\n",
    "from sklearn.model_selection import TimeSeriesSplit\n",
    "from sklearn.metrics import roc_auc_score"
   ]
  },
  {
   "cell_type": "code",
   "execution_count": 2,
   "metadata": {},
   "outputs": [
    {
     "name": "stdout",
     "output_type": "stream",
     "text": [
      "Number of data points in our data (100000, 10)\n"
     ]
    },
    {
     "data": {
      "text/html": [
       "<div>\n",
       "<style scoped>\n",
       "    .dataframe tbody tr th:only-of-type {\n",
       "        vertical-align: middle;\n",
       "    }\n",
       "\n",
       "    .dataframe tbody tr th {\n",
       "        vertical-align: top;\n",
       "    }\n",
       "\n",
       "    .dataframe thead th {\n",
       "        text-align: right;\n",
       "    }\n",
       "</style>\n",
       "<table border=\"1\" class=\"dataframe\">\n",
       "  <thead>\n",
       "    <tr style=\"text-align: right;\">\n",
       "      <th></th>\n",
       "      <th>Id</th>\n",
       "      <th>ProductId</th>\n",
       "      <th>UserId</th>\n",
       "      <th>ProfileName</th>\n",
       "      <th>HelpfulnessNumerator</th>\n",
       "      <th>HelpfulnessDenominator</th>\n",
       "      <th>Score</th>\n",
       "      <th>Time</th>\n",
       "      <th>Summary</th>\n",
       "      <th>Text</th>\n",
       "    </tr>\n",
       "  </thead>\n",
       "  <tbody>\n",
       "    <tr>\n",
       "      <th>0</th>\n",
       "      <td>1</td>\n",
       "      <td>B001E4KFG0</td>\n",
       "      <td>A3SGXH7AUHU8GW</td>\n",
       "      <td>delmartian</td>\n",
       "      <td>1</td>\n",
       "      <td>1</td>\n",
       "      <td>1</td>\n",
       "      <td>1303862400</td>\n",
       "      <td>Good Quality Dog Food</td>\n",
       "      <td>I have bought several of the Vitality canned d...</td>\n",
       "    </tr>\n",
       "    <tr>\n",
       "      <th>1</th>\n",
       "      <td>2</td>\n",
       "      <td>B00813GRG4</td>\n",
       "      <td>A1D87F6ZCVE5NK</td>\n",
       "      <td>dll pa</td>\n",
       "      <td>0</td>\n",
       "      <td>0</td>\n",
       "      <td>0</td>\n",
       "      <td>1346976000</td>\n",
       "      <td>Not as Advertised</td>\n",
       "      <td>Product arrived labeled as Jumbo Salted Peanut...</td>\n",
       "    </tr>\n",
       "    <tr>\n",
       "      <th>2</th>\n",
       "      <td>3</td>\n",
       "      <td>B000LQOCH0</td>\n",
       "      <td>ABXLMWJIXXAIN</td>\n",
       "      <td>Natalia Corres \"Natalia Corres\"</td>\n",
       "      <td>1</td>\n",
       "      <td>1</td>\n",
       "      <td>1</td>\n",
       "      <td>1219017600</td>\n",
       "      <td>\"Delight\" says it all</td>\n",
       "      <td>This is a confection that has been around a fe...</td>\n",
       "    </tr>\n",
       "  </tbody>\n",
       "</table>\n",
       "</div>"
      ],
      "text/plain": [
       "   Id   ProductId          UserId                      ProfileName  \\\n",
       "0   1  B001E4KFG0  A3SGXH7AUHU8GW                       delmartian   \n",
       "1   2  B00813GRG4  A1D87F6ZCVE5NK                           dll pa   \n",
       "2   3  B000LQOCH0   ABXLMWJIXXAIN  Natalia Corres \"Natalia Corres\"   \n",
       "\n",
       "   HelpfulnessNumerator  HelpfulnessDenominator  Score        Time  \\\n",
       "0                     1                       1      1  1303862400   \n",
       "1                     0                       0      0  1346976000   \n",
       "2                     1                       1      1  1219017600   \n",
       "\n",
       "                 Summary                                               Text  \n",
       "0  Good Quality Dog Food  I have bought several of the Vitality canned d...  \n",
       "1      Not as Advertised  Product arrived labeled as Jumbo Salted Peanut...  \n",
       "2  \"Delight\" says it all  This is a confection that has been around a fe...  "
      ]
     },
     "execution_count": 2,
     "metadata": {},
     "output_type": "execute_result"
    }
   ],
   "source": [
    "# using SQLite Table to read data.\n",
    "con = sqlite3.connect('database.sqlite') \n",
    "\n",
    "# filtering only positive and negative reviews i.e. \n",
    "# not taking into consideration those reviews with Score=3\n",
    "# SELECT * FROM Reviews WHERE Score != 3 LIMIT 500000, will give top 500000 data points\n",
    "# you can change the number to any other number based on your computing power\n",
    "\n",
    "# filtered_data = pd.read_sql_query(\"\"\" SELECT * FROM Reviews WHERE Score != 3 LIMIT 500000\"\"\", con) \n",
    "\n",
    "filtered_data = pd.read_sql_query(\"\"\" SELECT * FROM Reviews WHERE Score != 3 LIMIT 100000\"\"\", con) \n",
    "\n",
    "# Give reviews with Score>3 a positive rating(1), and reviews with a score<3 a negative rating(0).\n",
    "def partition(x):\n",
    "    if x < 3:\n",
    "        return 0\n",
    "    return 1\n",
    "\n",
    "#changing reviews with score less than 3 to be positive and vice-versa\n",
    "actualScore = filtered_data['Score']\n",
    "positiveNegative = actualScore.map(partition) \n",
    "filtered_data['Score'] = positiveNegative\n",
    "print(\"Number of data points in our data\", filtered_data.shape)\n",
    "filtered_data.head(3)"
   ]
  },
  {
   "cell_type": "code",
   "execution_count": 3,
   "metadata": {},
   "outputs": [],
   "source": [
    "display = pd.read_sql_query(\"\"\"\n",
    "SELECT UserId, ProductId, ProfileName, Time, Score, Text, COUNT(*)\n",
    "FROM Reviews\n",
    "GROUP BY UserId\n",
    "HAVING COUNT(*)>1\n",
    "\"\"\", con)"
   ]
  },
  {
   "cell_type": "code",
   "execution_count": 4,
   "metadata": {
    "scrolled": true
   },
   "outputs": [
    {
     "name": "stdout",
     "output_type": "stream",
     "text": [
      "(80668, 7)\n"
     ]
    },
    {
     "data": {
      "text/html": [
       "<div>\n",
       "<style scoped>\n",
       "    .dataframe tbody tr th:only-of-type {\n",
       "        vertical-align: middle;\n",
       "    }\n",
       "\n",
       "    .dataframe tbody tr th {\n",
       "        vertical-align: top;\n",
       "    }\n",
       "\n",
       "    .dataframe thead th {\n",
       "        text-align: right;\n",
       "    }\n",
       "</style>\n",
       "<table border=\"1\" class=\"dataframe\">\n",
       "  <thead>\n",
       "    <tr style=\"text-align: right;\">\n",
       "      <th></th>\n",
       "      <th>UserId</th>\n",
       "      <th>ProductId</th>\n",
       "      <th>ProfileName</th>\n",
       "      <th>Time</th>\n",
       "      <th>Score</th>\n",
       "      <th>Text</th>\n",
       "      <th>COUNT(*)</th>\n",
       "    </tr>\n",
       "  </thead>\n",
       "  <tbody>\n",
       "    <tr>\n",
       "      <th>0</th>\n",
       "      <td>#oc-R115TNMSPFT9I7</td>\n",
       "      <td>B007Y59HVM</td>\n",
       "      <td>Breyton</td>\n",
       "      <td>1331510400</td>\n",
       "      <td>2</td>\n",
       "      <td>Overall its just OK when considering the price...</td>\n",
       "      <td>2</td>\n",
       "    </tr>\n",
       "    <tr>\n",
       "      <th>1</th>\n",
       "      <td>#oc-R11D9D7SHXIJB9</td>\n",
       "      <td>B005HG9ET0</td>\n",
       "      <td>Louis E. Emory \"hoppy\"</td>\n",
       "      <td>1342396800</td>\n",
       "      <td>5</td>\n",
       "      <td>My wife has recurring extreme muscle spasms, u...</td>\n",
       "      <td>3</td>\n",
       "    </tr>\n",
       "    <tr>\n",
       "      <th>2</th>\n",
       "      <td>#oc-R11DNU2NBKQ23Z</td>\n",
       "      <td>B007Y59HVM</td>\n",
       "      <td>Kim Cieszykowski</td>\n",
       "      <td>1348531200</td>\n",
       "      <td>1</td>\n",
       "      <td>This coffee is horrible and unfortunately not ...</td>\n",
       "      <td>2</td>\n",
       "    </tr>\n",
       "    <tr>\n",
       "      <th>3</th>\n",
       "      <td>#oc-R11O5J5ZVQE25C</td>\n",
       "      <td>B005HG9ET0</td>\n",
       "      <td>Penguin Chick</td>\n",
       "      <td>1346889600</td>\n",
       "      <td>5</td>\n",
       "      <td>This will be the bottle that you grab from the...</td>\n",
       "      <td>3</td>\n",
       "    </tr>\n",
       "    <tr>\n",
       "      <th>4</th>\n",
       "      <td>#oc-R12KPBODL2B5ZD</td>\n",
       "      <td>B007OSBE1U</td>\n",
       "      <td>Christopher P. Presta</td>\n",
       "      <td>1348617600</td>\n",
       "      <td>1</td>\n",
       "      <td>I didnt like this coffee. Instead of telling y...</td>\n",
       "      <td>2</td>\n",
       "    </tr>\n",
       "  </tbody>\n",
       "</table>\n",
       "</div>"
      ],
      "text/plain": [
       "               UserId   ProductId             ProfileName        Time  Score  \\\n",
       "0  #oc-R115TNMSPFT9I7  B007Y59HVM                 Breyton  1331510400      2   \n",
       "1  #oc-R11D9D7SHXIJB9  B005HG9ET0  Louis E. Emory \"hoppy\"  1342396800      5   \n",
       "2  #oc-R11DNU2NBKQ23Z  B007Y59HVM        Kim Cieszykowski  1348531200      1   \n",
       "3  #oc-R11O5J5ZVQE25C  B005HG9ET0           Penguin Chick  1346889600      5   \n",
       "4  #oc-R12KPBODL2B5ZD  B007OSBE1U   Christopher P. Presta  1348617600      1   \n",
       "\n",
       "                                                Text  COUNT(*)  \n",
       "0  Overall its just OK when considering the price...         2  \n",
       "1  My wife has recurring extreme muscle spasms, u...         3  \n",
       "2  This coffee is horrible and unfortunately not ...         2  \n",
       "3  This will be the bottle that you grab from the...         3  \n",
       "4  I didnt like this coffee. Instead of telling y...         2  "
      ]
     },
     "execution_count": 4,
     "metadata": {},
     "output_type": "execute_result"
    }
   ],
   "source": [
    "print(display.shape)\n",
    "display.head()"
   ]
  },
  {
   "cell_type": "code",
   "execution_count": 5,
   "metadata": {},
   "outputs": [
    {
     "data": {
      "text/html": [
       "<div>\n",
       "<style scoped>\n",
       "    .dataframe tbody tr th:only-of-type {\n",
       "        vertical-align: middle;\n",
       "    }\n",
       "\n",
       "    .dataframe tbody tr th {\n",
       "        vertical-align: top;\n",
       "    }\n",
       "\n",
       "    .dataframe thead th {\n",
       "        text-align: right;\n",
       "    }\n",
       "</style>\n",
       "<table border=\"1\" class=\"dataframe\">\n",
       "  <thead>\n",
       "    <tr style=\"text-align: right;\">\n",
       "      <th></th>\n",
       "      <th>UserId</th>\n",
       "      <th>ProductId</th>\n",
       "      <th>ProfileName</th>\n",
       "      <th>Time</th>\n",
       "      <th>Score</th>\n",
       "      <th>Text</th>\n",
       "      <th>COUNT(*)</th>\n",
       "    </tr>\n",
       "  </thead>\n",
       "  <tbody>\n",
       "    <tr>\n",
       "      <th>80638</th>\n",
       "      <td>AZY10LLTJ71NX</td>\n",
       "      <td>B006P7E5ZI</td>\n",
       "      <td>undertheshrine \"undertheshrine\"</td>\n",
       "      <td>1334707200</td>\n",
       "      <td>5</td>\n",
       "      <td>I was recommended to try green tea extract to ...</td>\n",
       "      <td>5</td>\n",
       "    </tr>\n",
       "  </tbody>\n",
       "</table>\n",
       "</div>"
      ],
      "text/plain": [
       "              UserId   ProductId                      ProfileName        Time  \\\n",
       "80638  AZY10LLTJ71NX  B006P7E5ZI  undertheshrine \"undertheshrine\"  1334707200   \n",
       "\n",
       "       Score                                               Text  COUNT(*)  \n",
       "80638      5  I was recommended to try green tea extract to ...         5  "
      ]
     },
     "execution_count": 5,
     "metadata": {},
     "output_type": "execute_result"
    }
   ],
   "source": [
    "display[display['UserId']=='AZY10LLTJ71NX']"
   ]
  },
  {
   "cell_type": "code",
   "execution_count": 6,
   "metadata": {},
   "outputs": [
    {
     "data": {
      "text/plain": [
       "393063"
      ]
     },
     "execution_count": 6,
     "metadata": {},
     "output_type": "execute_result"
    }
   ],
   "source": [
    "display['COUNT(*)'].sum()"
   ]
  },
  {
   "cell_type": "markdown",
   "metadata": {},
   "source": [
    "#  [2] Exploratory Data Analysis"
   ]
  },
  {
   "cell_type": "markdown",
   "metadata": {},
   "source": [
    "## [2.1] Data Cleaning: Deduplication\n",
    "\n",
    "It is observed (as shown in the table below) that the reviews data had many duplicate entries. Hence it was necessary to remove duplicates in order to get unbiased results for the analysis of the data.  Following is an example:"
   ]
  },
  {
   "cell_type": "code",
   "execution_count": 7,
   "metadata": {
    "scrolled": false
   },
   "outputs": [
    {
     "data": {
      "text/html": [
       "<div>\n",
       "<style scoped>\n",
       "    .dataframe tbody tr th:only-of-type {\n",
       "        vertical-align: middle;\n",
       "    }\n",
       "\n",
       "    .dataframe tbody tr th {\n",
       "        vertical-align: top;\n",
       "    }\n",
       "\n",
       "    .dataframe thead th {\n",
       "        text-align: right;\n",
       "    }\n",
       "</style>\n",
       "<table border=\"1\" class=\"dataframe\">\n",
       "  <thead>\n",
       "    <tr style=\"text-align: right;\">\n",
       "      <th></th>\n",
       "      <th>Id</th>\n",
       "      <th>ProductId</th>\n",
       "      <th>UserId</th>\n",
       "      <th>ProfileName</th>\n",
       "      <th>HelpfulnessNumerator</th>\n",
       "      <th>HelpfulnessDenominator</th>\n",
       "      <th>Score</th>\n",
       "      <th>Time</th>\n",
       "      <th>Summary</th>\n",
       "      <th>Text</th>\n",
       "    </tr>\n",
       "  </thead>\n",
       "  <tbody>\n",
       "    <tr>\n",
       "      <th>0</th>\n",
       "      <td>78445</td>\n",
       "      <td>B000HDL1RQ</td>\n",
       "      <td>AR5J8UI46CURR</td>\n",
       "      <td>Geetha Krishnan</td>\n",
       "      <td>2</td>\n",
       "      <td>2</td>\n",
       "      <td>5</td>\n",
       "      <td>1199577600</td>\n",
       "      <td>LOACKER QUADRATINI VANILLA WAFERS</td>\n",
       "      <td>DELICIOUS WAFERS. I FIND THAT EUROPEAN WAFERS ...</td>\n",
       "    </tr>\n",
       "    <tr>\n",
       "      <th>1</th>\n",
       "      <td>138317</td>\n",
       "      <td>B000HDOPYC</td>\n",
       "      <td>AR5J8UI46CURR</td>\n",
       "      <td>Geetha Krishnan</td>\n",
       "      <td>2</td>\n",
       "      <td>2</td>\n",
       "      <td>5</td>\n",
       "      <td>1199577600</td>\n",
       "      <td>LOACKER QUADRATINI VANILLA WAFERS</td>\n",
       "      <td>DELICIOUS WAFERS. I FIND THAT EUROPEAN WAFERS ...</td>\n",
       "    </tr>\n",
       "    <tr>\n",
       "      <th>2</th>\n",
       "      <td>138277</td>\n",
       "      <td>B000HDOPYM</td>\n",
       "      <td>AR5J8UI46CURR</td>\n",
       "      <td>Geetha Krishnan</td>\n",
       "      <td>2</td>\n",
       "      <td>2</td>\n",
       "      <td>5</td>\n",
       "      <td>1199577600</td>\n",
       "      <td>LOACKER QUADRATINI VANILLA WAFERS</td>\n",
       "      <td>DELICIOUS WAFERS. I FIND THAT EUROPEAN WAFERS ...</td>\n",
       "    </tr>\n",
       "    <tr>\n",
       "      <th>3</th>\n",
       "      <td>73791</td>\n",
       "      <td>B000HDOPZG</td>\n",
       "      <td>AR5J8UI46CURR</td>\n",
       "      <td>Geetha Krishnan</td>\n",
       "      <td>2</td>\n",
       "      <td>2</td>\n",
       "      <td>5</td>\n",
       "      <td>1199577600</td>\n",
       "      <td>LOACKER QUADRATINI VANILLA WAFERS</td>\n",
       "      <td>DELICIOUS WAFERS. I FIND THAT EUROPEAN WAFERS ...</td>\n",
       "    </tr>\n",
       "    <tr>\n",
       "      <th>4</th>\n",
       "      <td>155049</td>\n",
       "      <td>B000PAQ75C</td>\n",
       "      <td>AR5J8UI46CURR</td>\n",
       "      <td>Geetha Krishnan</td>\n",
       "      <td>2</td>\n",
       "      <td>2</td>\n",
       "      <td>5</td>\n",
       "      <td>1199577600</td>\n",
       "      <td>LOACKER QUADRATINI VANILLA WAFERS</td>\n",
       "      <td>DELICIOUS WAFERS. I FIND THAT EUROPEAN WAFERS ...</td>\n",
       "    </tr>\n",
       "  </tbody>\n",
       "</table>\n",
       "</div>"
      ],
      "text/plain": [
       "       Id   ProductId         UserId      ProfileName  HelpfulnessNumerator  \\\n",
       "0   78445  B000HDL1RQ  AR5J8UI46CURR  Geetha Krishnan                     2   \n",
       "1  138317  B000HDOPYC  AR5J8UI46CURR  Geetha Krishnan                     2   \n",
       "2  138277  B000HDOPYM  AR5J8UI46CURR  Geetha Krishnan                     2   \n",
       "3   73791  B000HDOPZG  AR5J8UI46CURR  Geetha Krishnan                     2   \n",
       "4  155049  B000PAQ75C  AR5J8UI46CURR  Geetha Krishnan                     2   \n",
       "\n",
       "   HelpfulnessDenominator  Score        Time  \\\n",
       "0                       2      5  1199577600   \n",
       "1                       2      5  1199577600   \n",
       "2                       2      5  1199577600   \n",
       "3                       2      5  1199577600   \n",
       "4                       2      5  1199577600   \n",
       "\n",
       "                             Summary  \\\n",
       "0  LOACKER QUADRATINI VANILLA WAFERS   \n",
       "1  LOACKER QUADRATINI VANILLA WAFERS   \n",
       "2  LOACKER QUADRATINI VANILLA WAFERS   \n",
       "3  LOACKER QUADRATINI VANILLA WAFERS   \n",
       "4  LOACKER QUADRATINI VANILLA WAFERS   \n",
       "\n",
       "                                                Text  \n",
       "0  DELICIOUS WAFERS. I FIND THAT EUROPEAN WAFERS ...  \n",
       "1  DELICIOUS WAFERS. I FIND THAT EUROPEAN WAFERS ...  \n",
       "2  DELICIOUS WAFERS. I FIND THAT EUROPEAN WAFERS ...  \n",
       "3  DELICIOUS WAFERS. I FIND THAT EUROPEAN WAFERS ...  \n",
       "4  DELICIOUS WAFERS. I FIND THAT EUROPEAN WAFERS ...  "
      ]
     },
     "execution_count": 7,
     "metadata": {},
     "output_type": "execute_result"
    }
   ],
   "source": [
    "display= pd.read_sql_query(\"\"\"\n",
    "SELECT *\n",
    "FROM Reviews\n",
    "WHERE Score != 3 AND UserId=\"AR5J8UI46CURR\"\n",
    "ORDER BY ProductID\n",
    "\"\"\", con)\n",
    "display.head()"
   ]
  },
  {
   "cell_type": "markdown",
   "metadata": {},
   "source": [
    "As it can be seen above that same user has multiple reviews with same values for HelpfulnessNumerator, HelpfulnessDenominator, Score, Time, Summary and Text and on doing analysis it was found that <br>\n",
    "<br> \n",
    "ProductId=B000HDOPZG was Loacker Quadratini Vanilla Wafer Cookies, 8.82-Ounce Packages (Pack of 8)<br>\n",
    "<br> \n",
    "ProductId=B000HDL1RQ was Loacker Quadratini Lemon Wafer Cookies, 8.82-Ounce Packages (Pack of 8) and so on<br>\n",
    "\n",
    "It was inferred after analysis that reviews with same parameters other than ProductId belonged to the same product just having different flavour or quantity. Hence in order to reduce redundancy it was decided to eliminate the rows having same parameters.<br>\n",
    "\n",
    "The method used for the same was that we first sort the data according to ProductId and then just keep the first similar product review and delelte the others. for eg. in the above just the review for ProductId=B000HDL1RQ remains. This method ensures that there is only one representative for each product and deduplication without sorting would lead to possibility of different representatives still existing for the same product."
   ]
  },
  {
   "cell_type": "code",
   "execution_count": 8,
   "metadata": {},
   "outputs": [],
   "source": [
    "#Sorting data according to ProductId in ascending order\n",
    "sorted_data=filtered_data.sort_values('ProductId', axis=0, ascending=True, inplace=False, kind='quicksort', na_position='last')"
   ]
  },
  {
   "cell_type": "code",
   "execution_count": 9,
   "metadata": {},
   "outputs": [
    {
     "data": {
      "text/plain": [
       "(87775, 10)"
      ]
     },
     "execution_count": 9,
     "metadata": {},
     "output_type": "execute_result"
    }
   ],
   "source": [
    "#Deduplication of entries\n",
    "final=sorted_data.drop_duplicates(subset={\"UserId\",\"ProfileName\",\"Time\",\"Text\"}, keep='first', inplace=False)\n",
    "final.shape"
   ]
  },
  {
   "cell_type": "code",
   "execution_count": 10,
   "metadata": {},
   "outputs": [
    {
     "data": {
      "text/plain": [
       "87.775"
      ]
     },
     "execution_count": 10,
     "metadata": {},
     "output_type": "execute_result"
    }
   ],
   "source": [
    "#Checking to see how much % of data still remains\n",
    "(final['Id'].size*1.0)/(filtered_data['Id'].size*1.0)*100"
   ]
  },
  {
   "cell_type": "markdown",
   "metadata": {},
   "source": [
    "<b>Observation:-</b> It was also seen that in two rows given below the value of HelpfulnessNumerator is greater than HelpfulnessDenominator which is not practically possible hence these two rows too are removed from calcualtions"
   ]
  },
  {
   "cell_type": "code",
   "execution_count": 11,
   "metadata": {},
   "outputs": [
    {
     "data": {
      "text/html": [
       "<div>\n",
       "<style scoped>\n",
       "    .dataframe tbody tr th:only-of-type {\n",
       "        vertical-align: middle;\n",
       "    }\n",
       "\n",
       "    .dataframe tbody tr th {\n",
       "        vertical-align: top;\n",
       "    }\n",
       "\n",
       "    .dataframe thead th {\n",
       "        text-align: right;\n",
       "    }\n",
       "</style>\n",
       "<table border=\"1\" class=\"dataframe\">\n",
       "  <thead>\n",
       "    <tr style=\"text-align: right;\">\n",
       "      <th></th>\n",
       "      <th>Id</th>\n",
       "      <th>ProductId</th>\n",
       "      <th>UserId</th>\n",
       "      <th>ProfileName</th>\n",
       "      <th>HelpfulnessNumerator</th>\n",
       "      <th>HelpfulnessDenominator</th>\n",
       "      <th>Score</th>\n",
       "      <th>Time</th>\n",
       "      <th>Summary</th>\n",
       "      <th>Text</th>\n",
       "    </tr>\n",
       "  </thead>\n",
       "  <tbody>\n",
       "    <tr>\n",
       "      <th>0</th>\n",
       "      <td>64422</td>\n",
       "      <td>B000MIDROQ</td>\n",
       "      <td>A161DK06JJMCYF</td>\n",
       "      <td>J. E. Stephens \"Jeanne\"</td>\n",
       "      <td>3</td>\n",
       "      <td>1</td>\n",
       "      <td>5</td>\n",
       "      <td>1224892800</td>\n",
       "      <td>Bought This for My Son at College</td>\n",
       "      <td>My son loves spaghetti so I didn't hesitate or...</td>\n",
       "    </tr>\n",
       "    <tr>\n",
       "      <th>1</th>\n",
       "      <td>44737</td>\n",
       "      <td>B001EQ55RW</td>\n",
       "      <td>A2V0I904FH7ABY</td>\n",
       "      <td>Ram</td>\n",
       "      <td>3</td>\n",
       "      <td>2</td>\n",
       "      <td>4</td>\n",
       "      <td>1212883200</td>\n",
       "      <td>Pure cocoa taste with crunchy almonds inside</td>\n",
       "      <td>It was almost a 'love at first bite' - the per...</td>\n",
       "    </tr>\n",
       "  </tbody>\n",
       "</table>\n",
       "</div>"
      ],
      "text/plain": [
       "      Id   ProductId          UserId              ProfileName  \\\n",
       "0  64422  B000MIDROQ  A161DK06JJMCYF  J. E. Stephens \"Jeanne\"   \n",
       "1  44737  B001EQ55RW  A2V0I904FH7ABY                      Ram   \n",
       "\n",
       "   HelpfulnessNumerator  HelpfulnessDenominator  Score        Time  \\\n",
       "0                     3                       1      5  1224892800   \n",
       "1                     3                       2      4  1212883200   \n",
       "\n",
       "                                        Summary  \\\n",
       "0             Bought This for My Son at College   \n",
       "1  Pure cocoa taste with crunchy almonds inside   \n",
       "\n",
       "                                                Text  \n",
       "0  My son loves spaghetti so I didn't hesitate or...  \n",
       "1  It was almost a 'love at first bite' - the per...  "
      ]
     },
     "execution_count": 11,
     "metadata": {},
     "output_type": "execute_result"
    }
   ],
   "source": [
    "display= pd.read_sql_query(\"\"\"\n",
    "SELECT *\n",
    "FROM Reviews\n",
    "WHERE Score != 3 AND Id=44737 OR Id=64422\n",
    "ORDER BY ProductID\n",
    "\"\"\", con)\n",
    "\n",
    "display.head()"
   ]
  },
  {
   "cell_type": "code",
   "execution_count": 12,
   "metadata": {},
   "outputs": [],
   "source": [
    "final=final[final.HelpfulnessNumerator<=final.HelpfulnessDenominator]"
   ]
  },
  {
   "cell_type": "code",
   "execution_count": 13,
   "metadata": {},
   "outputs": [
    {
     "name": "stdout",
     "output_type": "stream",
     "text": [
      "(87773, 10)\n"
     ]
    },
    {
     "data": {
      "text/plain": [
       "1    73592\n",
       "0    14181\n",
       "Name: Score, dtype: int64"
      ]
     },
     "execution_count": 13,
     "metadata": {},
     "output_type": "execute_result"
    }
   ],
   "source": [
    "#Before starting the next phase of preprocessing lets see the number of entries left\n",
    "print(final.shape)\n",
    "\n",
    "#How many positive and negative reviews are present in our dataset?\n",
    "final['Score'].value_counts()"
   ]
  },
  {
   "cell_type": "markdown",
   "metadata": {},
   "source": [
    "#  [3] Preprocessing"
   ]
  },
  {
   "cell_type": "markdown",
   "metadata": {},
   "source": [
    "## [3.1].  Preprocessing Review Text\n",
    "\n",
    "Now that we have finished deduplication our data requires some preprocessing before we go on further with analysis and making the prediction model.\n",
    "\n",
    "Hence in the Preprocessing phase we do the following in the order below:-\n",
    "\n",
    "1. Begin by removing the html tags\n",
    "2. Remove any punctuations or limited set of special characters like , or . or # etc.\n",
    "3. Check if the word is made up of english letters and is not alpha-numeric\n",
    "4. Check to see if the length of the word is greater than 2 (as it was researched that there is no adjective in 2-letters)\n",
    "5. Convert the word to lowercase\n",
    "6. Remove Stopwords\n",
    "7. Finally Snowball Stemming the word (it was obsereved to be better than Porter Stemming)<br>\n",
    "\n",
    "After which we collect the words used to describe positive and negative reviews"
   ]
  },
  {
   "cell_type": "code",
   "execution_count": 14,
   "metadata": {},
   "outputs": [
    {
     "name": "stdout",
     "output_type": "stream",
     "text": [
      "My dogs loves this chicken but its a product from China, so we wont be buying it anymore.  Its very hard to find any chicken products made in the USA but they are out there, but this one isnt.  Its too bad too because its a good product but I wont take any chances till they know what is going on with the china imports.\n",
      "==================================================\n",
      "The Candy Blocks were a nice visual for the Lego Birthday party but the candy has little taste to it.  Very little of the 2 lbs that I bought were eaten and I threw the rest away.  I would not buy the candy again.\n",
      "==================================================\n",
      "was way to hot for my blood, took a bite and did a jig  lol\n",
      "==================================================\n",
      "My dog LOVES these treats. They tend to have a very strong fish oil smell. So if you are afraid of the fishy smell, don't get it. But I think my dog likes it because of the smell. These treats are really small in size. They are great for training. You can give your dog several of these without worrying about him over eating. Amazon's price was much more reasonable than any other retailer. You can buy a 1 pound bag on Amazon for almost the same price as a 6 ounce bag at other retailers. It's definitely worth it to buy a big bag if your dog eats them a lot.\n",
      "==================================================\n"
     ]
    }
   ],
   "source": [
    "# printing some random reviews\n",
    "sent_0 = final['Text'].values[0]\n",
    "print(sent_0)\n",
    "print(\"=\"*50)\n",
    "\n",
    "sent_1000 = final['Text'].values[1000]\n",
    "print(sent_1000)\n",
    "print(\"=\"*50)\n",
    "\n",
    "sent_1500 = final['Text'].values[1500]\n",
    "print(sent_1500)\n",
    "print(\"=\"*50)\n",
    "\n",
    "sent_4900 = final['Text'].values[4900]\n",
    "print(sent_4900)\n",
    "print(\"=\"*50)"
   ]
  },
  {
   "cell_type": "code",
   "execution_count": 15,
   "metadata": {},
   "outputs": [
    {
     "name": "stdout",
     "output_type": "stream",
     "text": [
      "My dogs loves this chicken but its a product from China, so we wont be buying it anymore.  Its very hard to find any chicken products made in the USA but they are out there, but this one isnt.  Its too bad too because its a good product but I wont take any chances till they know what is going on with the china imports.\n"
     ]
    }
   ],
   "source": [
    "# remove urls from text python: https://stackoverflow.com/a/40823105/4084039\n",
    "sent_0 = re.sub(r\"http\\S+\", \"\", sent_0)\n",
    "sent_1000 = re.sub(r\"http\\S+\", \"\", sent_1000)\n",
    "sent_150 = re.sub(r\"http\\S+\", \"\", sent_1500)\n",
    "sent_4900 = re.sub(r\"http\\S+\", \"\", sent_4900)\n",
    "\n",
    "print(sent_0)"
   ]
  },
  {
   "cell_type": "code",
   "execution_count": 16,
   "metadata": {},
   "outputs": [
    {
     "name": "stdout",
     "output_type": "stream",
     "text": [
      "My dogs loves this chicken but its a product from China, so we wont be buying it anymore.  Its very hard to find any chicken products made in the USA but they are out there, but this one isnt.  Its too bad too because its a good product but I wont take any chances till they know what is going on with the china imports.\n",
      "==================================================\n",
      "The Candy Blocks were a nice visual for the Lego Birthday party but the candy has little taste to it.  Very little of the 2 lbs that I bought were eaten and I threw the rest away.  I would not buy the candy again.\n",
      "==================================================\n",
      "was way to hot for my blood, took a bite and did a jig  lol\n",
      "==================================================\n",
      "My dog LOVES these treats. They tend to have a very strong fish oil smell. So if you are afraid of the fishy smell, don't get it. But I think my dog likes it because of the smell. These treats are really small in size. They are great for training. You can give your dog several of these without worrying about him over eating. Amazon's price was much more reasonable than any other retailer. You can buy a 1 pound bag on Amazon for almost the same price as a 6 ounce bag at other retailers. It's definitely worth it to buy a big bag if your dog eats them a lot.\n"
     ]
    }
   ],
   "source": [
    "# https://stackoverflow.com/questions/16206380/python-beautifulsoup-how-to-remove-all-tags-from-an-element\n",
    "from bs4 import BeautifulSoup\n",
    "\n",
    "soup = BeautifulSoup(sent_0, 'lxml')\n",
    "sent_0 = soup.get_text()\n",
    "print(sent_0)\n",
    "print(\"=\"*50)\n",
    "\n",
    "soup = BeautifulSoup(sent_1000, 'lxml')\n",
    "sent_1000 = soup.get_text()\n",
    "print(sent_1000)\n",
    "print(\"=\"*50)\n",
    "\n",
    "soup = BeautifulSoup(sent_1500, 'lxml')\n",
    "sent_1500 = soup.get_text()\n",
    "print(sent_1500)\n",
    "print(\"=\"*50)\n",
    "\n",
    "soup = BeautifulSoup(sent_4900, 'lxml')\n",
    "sent_4900 = soup.get_text()\n",
    "print(sent_4900)"
   ]
  },
  {
   "cell_type": "code",
   "execution_count": 17,
   "metadata": {},
   "outputs": [],
   "source": [
    "# https://stackoverflow.com/a/47091490/4084039\n",
    "import re\n",
    "\n",
    "def decontracted(phrase):\n",
    "    # specific\n",
    "    phrase = re.sub(r\"won't\", \"will not\", phrase)\n",
    "    phrase = re.sub(r\"can\\'t\", \"can not\", phrase)\n",
    "    phrase = re.sub(r\"wont\",\"will not\",phrase) # in some words aposthepe is missing\n",
    "    phrase = re.sub(r\"its\",\"it is\",phrase)\n",
    "    phrase = re.sub(r\"Its\",\"It is\",phrase)\n",
    "    phrase = re.sub(r\"isnt\",\"is not\",phrase)\n",
    "\n",
    "    # general\n",
    "    phrase = re.sub(r\"n\\'t\", \" not\", phrase)\n",
    "    phrase = re.sub(r\"\\'re\", \" are\", phrase)\n",
    "    phrase = re.sub(r\"\\'s\", \" is\", phrase)\n",
    "    phrase = re.sub(r\"\\'d\", \" would\", phrase)\n",
    "    phrase = re.sub(r\"\\'ll\", \" will\", phrase)\n",
    "    phrase = re.sub(r\"\\'t\", \" not\", phrase)\n",
    "    phrase = re.sub(r\"\\'ve\", \" have\", phrase)\n",
    "    phrase = re.sub(r\"\\'m\", \" am\", phrase)\n",
    "    return phrase"
   ]
  },
  {
   "cell_type": "code",
   "execution_count": 18,
   "metadata": {},
   "outputs": [
    {
     "name": "stdout",
     "output_type": "stream",
     "text": [
      "My dogs loves this chicken but it is a product from China, so we will not be buying it anymore.  It is very hard to find any chicken products made in the USA but they are out there, but this one is not.  It is too bad too because it is a good product but I will not take any chances till they know what is going on with the china imports.\n",
      "==================================================\n"
     ]
    }
   ],
   "source": [
    "sent_0 = decontracted(sent_0)\n",
    "print(sent_0)\n",
    "print(\"=\"*50)"
   ]
  },
  {
   "cell_type": "code",
   "execution_count": 19,
   "metadata": {},
   "outputs": [
    {
     "name": "stdout",
     "output_type": "stream",
     "text": [
      "My dog LOVES these treats. They tend to have a very strong fish oil smell. So if you are afraid of the fishy smell, don't get it. But I think my dog likes it because of the smell. These treats are really small in size. They are great for training. You can give your dog several of these without worrying about him over eating. Amazon's price was much more reasonable than any other retailer. You can buy a  pound bag on Amazon for almost the same price as a  ounce bag at other retailers. It's definitely worth it to buy a big bag if your dog eats them a lot.\n"
     ]
    }
   ],
   "source": [
    "#remove words with numbers python: https://stackoverflow.com/a/18082370/4084039\n",
    "sent_4900 = re.sub(\"\\S*\\d\\S*\", \"\", sent_4900).strip()\n",
    "print(sent_4900)"
   ]
  },
  {
   "cell_type": "code",
   "execution_count": 20,
   "metadata": {},
   "outputs": [
    {
     "name": "stdout",
     "output_type": "stream",
     "text": [
      "My dog LOVES these treats They tend to have a very strong fish oil smell So if you are afraid of the fishy smell don t get it But I think my dog likes it because of the smell These treats are really small in size They are great for training You can give your dog several of these without worrying about him over eating Amazon s price was much more reasonable than any other retailer You can buy a pound bag on Amazon for almost the same price as a ounce bag at other retailers It s definitely worth it to buy a big bag if your dog eats them a lot \n"
     ]
    }
   ],
   "source": [
    "#remove special character: https://stackoverflow.com/a/5843547/4084039\n",
    "sent_4900 = re.sub('[^A-Za-z0-9]+', ' ', sent_4900)\n",
    "print(sent_4900)"
   ]
  },
  {
   "cell_type": "code",
   "execution_count": 21,
   "metadata": {},
   "outputs": [],
   "source": [
    "# https://gist.github.com/sebleier/554280\n",
    "# we are removing the words from the stop words list: 'no', 'nor', 'not'\n",
    "# <br /><br /> ==> after the above steps, we are getting \"br br\"\n",
    "# we are including them into stop words list\n",
    "# instead of <br /> if we have <br/> these tags would have revmoved in the 1st step\n",
    "\n",
    "stopwords= set(['br', 'the', 'i', 'me', 'my', 'myself', 'we', 'our', 'ours', 'ourselves', 'you', \"you're\", \"you've\",\\\n",
    "            \"you'll\", \"you'd\", 'your', 'yours', 'yourself', 'yourselves', 'he', 'him', 'his', 'himself', \\\n",
    "            'she', \"she's\", 'her', 'hers', 'herself', 'it', \"it's\", 'its', 'itself', 'they', 'them', 'their',\\\n",
    "            'theirs', 'themselves', 'what', 'which', 'who', 'whom', 'this', 'that', \"that'll\", 'these', 'those', \\\n",
    "            'am', 'is', 'are', 'was', 'were', 'be', 'been', 'being', 'have', 'has', 'had', 'having', 'do', 'does', \\\n",
    "            'did', 'doing', 'a', 'an', 'the', 'and', 'but', 'if', 'or', 'because', 'as', 'until', 'while', 'of', \\\n",
    "            'at', 'by', 'for', 'with', 'about', 'against', 'between', 'into', 'through', 'during', 'before', 'after',\\\n",
    "            'above', 'below', 'to', 'from', 'up', 'down', 'in', 'out', 'on', 'off', 'over', 'under', 'again', 'further',\\\n",
    "            'then', 'once', 'here', 'there', 'when', 'where', 'why', 'how', 'all', 'any', 'both', 'each', 'few', 'more',\\\n",
    "            'most', 'other', 'some', 'such', 'only', 'own', 'same', 'so', 'than', 'too', 'very', \\\n",
    "            's', 't', 'can', 'will', 'just', 'don', \"don't\", 'should', \"should've\", 'now', 'd', 'll', 'm', 'o', 're', \\\n",
    "            've', 'y', 'ain', 'aren', \"aren't\", 'couldn', \"couldn't\", 'didn', \"didn't\", 'doesn', \"doesn't\", 'hadn',\\\n",
    "            \"hadn't\", 'hasn', \"hasn't\", 'haven', \"haven't\", 'isn', \"isn't\", 'ma', 'mightn', \"mightn't\", 'mustn',\\\n",
    "            \"mustn't\", 'needn', \"needn't\", 'shan', \"shan't\", 'shouldn', \"shouldn't\", 'wasn', \"wasn't\", 'weren', \"weren't\", \\\n",
    "            'won', \"won't\", 'wouldn', \"wouldn't\"])"
   ]
  },
  {
   "cell_type": "code",
   "execution_count": 22,
   "metadata": {},
   "outputs": [
    {
     "name": "stderr",
     "output_type": "stream",
     "text": [
      "100%|██████████████████████████████████████████████████████████████████████████| 87773/87773 [01:07<00:00, 1301.29it/s]\n"
     ]
    }
   ],
   "source": [
    "# Combining all the above stundents \n",
    "import itertools\n",
    "from tqdm import tqdm\n",
    "preprocessed_reviews = []\n",
    "# tqdm is for printing the status bar\n",
    "for sentence in tqdm(final['Text'].values):\n",
    "    sentence = re.sub(r\"http\\S+\", \"\", sentence)\n",
    "    sentence = BeautifulSoup(sentence, 'lxml').get_text()\n",
    "    sentence = decontracted(sentence)\n",
    "    sentence = re.sub(\"\\S*\\d\\S*\", \"\", sentence).strip()\n",
    "    sentence = re.sub('[^A-Za-z]+', ' ', sentence)\n",
    "    \n",
    "    #https://www.analyticsvidhya.com/blog/2014/11/text-data-cleaning-steps-python/\n",
    "    # This removes words such as aawwww or happpyyy or awsooommmee etc\n",
    "    sentence = ''.join(''.join(s)[:2] for _, s in itertools.groupby(sentence))\n",
    "    \n",
    "    # https://gist.github.com/sebleier/554280\n",
    "    sentence = ' '.join(e.lower() for e in sentence.split() if e.lower() not in stopwords)\n",
    "    preprocessed_reviews.append(sentence.strip())"
   ]
  },
  {
   "cell_type": "code",
   "execution_count": 23,
   "metadata": {},
   "outputs": [
    {
     "name": "stdout",
     "output_type": "stream",
     "text": [
      " aaww aaww aa aaww\n"
     ]
    }
   ],
   "source": [
    "smpl = \" aaaaww aaaww aaa aawwww\"\n",
    "sent = ''.join(''.join(s)[:2] for _, s in itertools.groupby(smpl))\n",
    "print(sent)"
   ]
  },
  {
   "cell_type": "code",
   "execution_count": 24,
   "metadata": {},
   "outputs": [
    {
     "data": {
      "text/plain": [
       "'dog loves treats tend strong fish oil smell afraid fishy smell not get think dog likes smell treats really small size great training give dog several without worrying eating amazon price much reasonable retailer buy pound bag amazon almost price ounce bag retailers definitely worth buy big bag dog eats lot'"
      ]
     },
     "execution_count": 24,
     "metadata": {},
     "output_type": "execute_result"
    }
   ],
   "source": [
    "preprocessed_reviews[4900]"
   ]
  },
  {
   "cell_type": "markdown",
   "metadata": {},
   "source": [
    "<h2><font color='red'>[3.2] Preprocessing Review Summary</font></h2>"
   ]
  },
  {
   "cell_type": "code",
   "execution_count": 25,
   "metadata": {},
   "outputs": [
    {
     "name": "stderr",
     "output_type": "stream",
     "text": [
      "100%|██████████████████████████████████████████████████████████████████████████| 87773/87773 [00:34<00:00, 2512.46it/s]\n"
     ]
    }
   ],
   "source": [
    "## Similartly performing preprocessing for review summary also.\n",
    "\n",
    "preprocessed_summary=[]\n",
    "\n",
    "for sent in tqdm(final['Summary'].values):\n",
    "    sent = re.sub(r\"http\\S+\",\"\",sent)\n",
    "    sent = BeautifulSoup(sent,'lxml').get_text()\n",
    "    sent = decontracted(sent)\n",
    "    sent = re.sub(r\"\\S+\\d\\S+\",\"\",sent).strip()\n",
    "    sent = re.sub(r\"[^A-Za-z0]+\",\" \",sent)\n",
    "    \n",
    "    #https://www.analyticsvidhya.com/blog/2014/11/text-data-cleaning-steps-python/\n",
    "    # This removes words such as aawwww or happpyyy or awsooommmee etc\n",
    "    sent = ''.join(''.join(s)[:2] for _, s in itertools.groupby(sent))\n",
    "    \n",
    "    # https://gist.github.com/sebleier/554280\n",
    "    sent = ' '.join(w.lower() for w in sent.split() if w.lower() not in stopwords)\n",
    "    preprocessed_summary.append(sent.strip())"
   ]
  },
  {
   "cell_type": "code",
   "execution_count": 26,
   "metadata": {},
   "outputs": [
    {
     "data": {
      "text/plain": [
       "'great value'"
      ]
     },
     "execution_count": 26,
     "metadata": {},
     "output_type": "execute_result"
    }
   ],
   "source": [
    "preprocessed_summary[4900]"
   ]
  },
  {
   "cell_type": "code",
   "execution_count": 27,
   "metadata": {},
   "outputs": [
    {
     "data": {
      "text/plain": [
       "'Great value'"
      ]
     },
     "execution_count": 27,
     "metadata": {},
     "output_type": "execute_result"
    }
   ],
   "source": [
    "final['Summary'].values[4900]"
   ]
  },
  {
   "cell_type": "code",
   "execution_count": 28,
   "metadata": {},
   "outputs": [],
   "source": [
    "# Removing those words which are of lenght 2\n",
    "# This will remove non relevant words then we will perform featurization\n",
    "cleaned_reviews = []\n",
    "for sent in preprocessed_reviews:\n",
    "    sentence = ' '.join(w for w in sent.split() if len(w)>2)\n",
    "    cleaned_reviews.append(sentence.strip())"
   ]
  },
  {
   "cell_type": "code",
   "execution_count": 29,
   "metadata": {},
   "outputs": [
    {
     "name": "stdout",
     "output_type": "stream",
     "text": [
      "dogs loves chicken product china not buying anymore hard find chicken products made usa one not bad good product not take chances till know going china imports\n"
     ]
    }
   ],
   "source": [
    "print(cleaned_reviews[0])"
   ]
  },
  {
   "cell_type": "code",
   "execution_count": 30,
   "metadata": {},
   "outputs": [
    {
     "data": {
      "text/html": [
       "<div>\n",
       "<style scoped>\n",
       "    .dataframe tbody tr th:only-of-type {\n",
       "        vertical-align: middle;\n",
       "    }\n",
       "\n",
       "    .dataframe tbody tr th {\n",
       "        vertical-align: top;\n",
       "    }\n",
       "\n",
       "    .dataframe thead th {\n",
       "        text-align: right;\n",
       "    }\n",
       "</style>\n",
       "<table border=\"1\" class=\"dataframe\">\n",
       "  <thead>\n",
       "    <tr style=\"text-align: right;\">\n",
       "      <th></th>\n",
       "      <th>Id</th>\n",
       "      <th>ProductId</th>\n",
       "      <th>UserId</th>\n",
       "      <th>ProfileName</th>\n",
       "      <th>HelpfulnessNumerator</th>\n",
       "      <th>HelpfulnessDenominator</th>\n",
       "      <th>Score</th>\n",
       "      <th>Time</th>\n",
       "      <th>Summary</th>\n",
       "      <th>Text</th>\n",
       "      <th>Cleaned_review</th>\n",
       "    </tr>\n",
       "  </thead>\n",
       "  <tbody>\n",
       "    <tr>\n",
       "      <th>22620</th>\n",
       "      <td>24750</td>\n",
       "      <td>2734888454</td>\n",
       "      <td>A13ISQV0U9GZIC</td>\n",
       "      <td>Sandikaye</td>\n",
       "      <td>1</td>\n",
       "      <td>1</td>\n",
       "      <td>0</td>\n",
       "      <td>1192060800</td>\n",
       "      <td>made in china</td>\n",
       "      <td>My dogs loves this chicken but its a product f...</td>\n",
       "      <td>dogs loves chicken product china not buying an...</td>\n",
       "    </tr>\n",
       "    <tr>\n",
       "      <th>22621</th>\n",
       "      <td>24751</td>\n",
       "      <td>2734888454</td>\n",
       "      <td>A1C298ITT645B6</td>\n",
       "      <td>Hugh G. Pritchard</td>\n",
       "      <td>0</td>\n",
       "      <td>0</td>\n",
       "      <td>1</td>\n",
       "      <td>1195948800</td>\n",
       "      <td>Dog Lover Delites</td>\n",
       "      <td>Our dogs just love them.  I saw them in a pet ...</td>\n",
       "      <td>dogs love saw pet store tag attached regarding...</td>\n",
       "    </tr>\n",
       "    <tr>\n",
       "      <th>70677</th>\n",
       "      <td>76870</td>\n",
       "      <td>B00002N8SM</td>\n",
       "      <td>A19Q006CSFT011</td>\n",
       "      <td>Arlielle</td>\n",
       "      <td>0</td>\n",
       "      <td>0</td>\n",
       "      <td>0</td>\n",
       "      <td>1288396800</td>\n",
       "      <td>only one fruitfly stuck</td>\n",
       "      <td>I had an infestation of fruitflies, they were ...</td>\n",
       "      <td>infestation fruitflies literally everywhere fl...</td>\n",
       "    </tr>\n",
       "    <tr>\n",
       "      <th>70676</th>\n",
       "      <td>76869</td>\n",
       "      <td>B00002N8SM</td>\n",
       "      <td>A1FYH4S02BW7FN</td>\n",
       "      <td>wonderer</td>\n",
       "      <td>0</td>\n",
       "      <td>0</td>\n",
       "      <td>0</td>\n",
       "      <td>1290038400</td>\n",
       "      <td>Doesn't work!! Don't waste your money!!</td>\n",
       "      <td>Worst product I have gotten in long time. Woul...</td>\n",
       "      <td>worst product gotten long time would rate star...</td>\n",
       "    </tr>\n",
       "    <tr>\n",
       "      <th>70675</th>\n",
       "      <td>76868</td>\n",
       "      <td>B00002N8SM</td>\n",
       "      <td>AUE8TB5VHS6ZV</td>\n",
       "      <td>eyeofthestorm</td>\n",
       "      <td>0</td>\n",
       "      <td>0</td>\n",
       "      <td>0</td>\n",
       "      <td>1306972800</td>\n",
       "      <td>A big rip off</td>\n",
       "      <td>I wish I'd read the reviews before making this...</td>\n",
       "      <td>wish would read reviews making purchase basica...</td>\n",
       "    </tr>\n",
       "  </tbody>\n",
       "</table>\n",
       "</div>"
      ],
      "text/plain": [
       "          Id   ProductId          UserId        ProfileName  \\\n",
       "22620  24750  2734888454  A13ISQV0U9GZIC          Sandikaye   \n",
       "22621  24751  2734888454  A1C298ITT645B6  Hugh G. Pritchard   \n",
       "70677  76870  B00002N8SM  A19Q006CSFT011           Arlielle   \n",
       "70676  76869  B00002N8SM  A1FYH4S02BW7FN           wonderer   \n",
       "70675  76868  B00002N8SM   AUE8TB5VHS6ZV      eyeofthestorm   \n",
       "\n",
       "       HelpfulnessNumerator  HelpfulnessDenominator  Score        Time  \\\n",
       "22620                     1                       1      0  1192060800   \n",
       "22621                     0                       0      1  1195948800   \n",
       "70677                     0                       0      0  1288396800   \n",
       "70676                     0                       0      0  1290038400   \n",
       "70675                     0                       0      0  1306972800   \n",
       "\n",
       "                                       Summary  \\\n",
       "22620                            made in china   \n",
       "22621                        Dog Lover Delites   \n",
       "70677                  only one fruitfly stuck   \n",
       "70676  Doesn't work!! Don't waste your money!!   \n",
       "70675                            A big rip off   \n",
       "\n",
       "                                                    Text  \\\n",
       "22620  My dogs loves this chicken but its a product f...   \n",
       "22621  Our dogs just love them.  I saw them in a pet ...   \n",
       "70677  I had an infestation of fruitflies, they were ...   \n",
       "70676  Worst product I have gotten in long time. Woul...   \n",
       "70675  I wish I'd read the reviews before making this...   \n",
       "\n",
       "                                          Cleaned_review  \n",
       "22620  dogs loves chicken product china not buying an...  \n",
       "22621  dogs love saw pet store tag attached regarding...  \n",
       "70677  infestation fruitflies literally everywhere fl...  \n",
       "70676  worst product gotten long time would rate star...  \n",
       "70675  wish would read reviews making purchase basica...  "
      ]
     },
     "execution_count": 30,
     "metadata": {},
     "output_type": "execute_result"
    }
   ],
   "source": [
    "final[\"Cleaned_review\"] = cleaned_reviews\n",
    "final.head(5)"
   ]
  },
  {
   "cell_type": "markdown",
   "metadata": {},
   "source": [
    "# [4] Featurization"
   ]
  },
  {
   "cell_type": "markdown",
   "metadata": {},
   "source": [
    "## [4.1] BAG OF WORDS"
   ]
  },
  {
   "cell_type": "code",
   "execution_count": 36,
   "metadata": {},
   "outputs": [
    {
     "name": "stdout",
     "output_type": "stream",
     "text": [
      "some feature names  ['aaa', 'aaah', 'aaahh', 'aaaww', 'aachen', 'aadp', 'aaf', 'aafco', 'aah', 'aahhs']\n",
      "==================================================\n",
      "the type of count vectorizer  <class 'scipy.sparse.csr.csr_matrix'>\n",
      "the shape of out text BOW vectorizer  (87773, 54095)\n",
      "the number of unique words  54095\n"
     ]
    }
   ],
   "source": [
    "#BoW\n",
    "count_vect1 = CountVectorizer() #in scikit-learn\n",
    "count_vect1.fit(cleaned_reviews)\n",
    "print(\"some feature names \", count_vect1.get_feature_names()[:10])\n",
    "print('='*50)\n",
    "\n",
    "final_counts = count_vect1.transform(cleaned_reviews)\n",
    "print(\"the type of count vectorizer \",type(final_counts))\n",
    "print(\"the shape of out text BOW vectorizer \",final_counts.get_shape())\n",
    "print(\"the number of unique words \", final_counts.get_shape()[1])"
   ]
  },
  {
   "cell_type": "markdown",
   "metadata": {},
   "source": [
    "## [4.2] Bi-Grams and n-Grams."
   ]
  },
  {
   "cell_type": "code",
   "execution_count": 37,
   "metadata": {},
   "outputs": [
    {
     "name": "stdout",
     "output_type": "stream",
     "text": [
      "the type of count vectorizer  <class 'scipy.sparse.csr.csr_matrix'>\n",
      "the shape of out text BOW vectorizer  (87773, 112780)\n",
      "the number of unique words including both unigrams and bigrams  112780\n",
      "['aafco', 'aback', 'abandon', 'abandoned', 'abc', 'abdomen', 'abdominal', 'abdominal pain', 'abide', 'abilities']\n"
     ]
    }
   ],
   "source": [
    "#bi-gram, tri-gram and n-gram\n",
    "\n",
    "#removing stop words like \"not\" should be avoided before building n-grams\n",
    "# count_vect = CountVectorizer(ngram_range=(1,2))\n",
    "# please do read the CountVectorizer documentation http://scikit-learn.org/stable/modules/generated/sklearn.feature_extraction.text.CountVectorizer.html\n",
    "\n",
    "# you can choose these numbers min_df=10, max_features=5000, of your choice\n",
    "count_vect2 = CountVectorizer(ngram_range=(1,2), min_df=5)\n",
    "final_bigram_counts = count_vect2.fit_transform(cleaned_reviews)\n",
    "print(\"the type of count vectorizer \",type(final_bigram_counts))\n",
    "print(\"the shape of out text BOW vectorizer \",final_bigram_counts.get_shape())\n",
    "print(\"the number of unique words including both unigrams and bigrams \", final_bigram_counts.get_shape()[1])\n",
    "bigram_features = count_vect2.get_feature_names()\n",
    "print(bigram_features[:10])"
   ]
  },
  {
   "cell_type": "markdown",
   "metadata": {},
   "source": [
    "## [4.3] TF-IDF"
   ]
  },
  {
   "cell_type": "code",
   "execution_count": 38,
   "metadata": {},
   "outputs": [
    {
     "name": "stdout",
     "output_type": "stream",
     "text": [
      "some sample features(unique words in the corpus) ['aaa', 'aaah', 'aaahh', 'aaaww', 'aachen', 'aadp', 'aaf', 'aafco', 'aah', 'aahhs']\n",
      "==================================================\n",
      "the type of count vectorizer  <class 'scipy.sparse.csr.csr_matrix'>\n",
      "the shape of out text TFIDF vectorizer  (87773, 54095)\n",
      "the number of unique words including both unigrams and bigrams  54095\n"
     ]
    }
   ],
   "source": [
    "# tfidf on unigrams\n",
    "tf_idf_vect1 = TfidfVectorizer()\n",
    "tf_idf_vect1.fit(cleaned_reviews)\n",
    "print(\"some sample features(unique words in the corpus)\",tf_idf_vect1.get_feature_names()[0:10])\n",
    "print('='*50)\n",
    "\n",
    "final_tf_idf1 = tf_idf_vect1.transform(cleaned_reviews)\n",
    "print(\"the type of count vectorizer \",type(final_tf_idf1))\n",
    "print(\"the shape of out text TFIDF vectorizer \",final_tf_idf1.get_shape())\n",
    "print(\"the number of unique words including both unigrams and bigrams \", final_tf_idf1.get_shape()[1])"
   ]
  },
  {
   "cell_type": "code",
   "execution_count": 39,
   "metadata": {},
   "outputs": [
    {
     "name": "stdout",
     "output_type": "stream",
     "text": [
      "some sample features(unique words in the corpus) ['aafco', 'aafco dog', 'aah', 'aahs', 'aback', 'abandon', 'abandoned', 'abandoning', 'abbott', 'abbreviated']\n",
      "==================================================\n",
      "the type of count vectorizer  <class 'scipy.sparse.csr.csr_matrix'>\n",
      "the shape of out text TFIDF vectorizer  (87773, 213055)\n",
      "the number of unique words including both unigrams and bigrams  213055\n"
     ]
    }
   ],
   "source": [
    "# Tfidf on bigrams\n",
    "tf_idf_vect2 = TfidfVectorizer(ngram_range=(1,2),min_df=3)\n",
    "tf_idf_vect2.fit(cleaned_reviews)\n",
    "print(\"some sample features(unique words in the corpus)\",tf_idf_vect2.get_feature_names()[0:10])\n",
    "print('='*50)\n",
    "\n",
    "final_tf_idf2 = tf_idf_vect2.transform(cleaned_reviews)\n",
    "print(\"the type of count vectorizer \",type(final_tf_idf2))\n",
    "print(\"the shape of out text TFIDF vectorizer \",final_tf_idf2.get_shape())\n",
    "print(\"the number of unique words including both unigrams and bigrams \", final_tf_idf2.get_shape()[1])"
   ]
  },
  {
   "cell_type": "markdown",
   "metadata": {},
   "source": [
    "## [4.4] Word2Vec"
   ]
  },
  {
   "cell_type": "code",
   "execution_count": 40,
   "metadata": {},
   "outputs": [
    {
     "name": "stderr",
     "output_type": "stream",
     "text": [
      "100%|████████████████████████████████████████████████████████████████████████| 87773/87773 [00:00<00:00, 107758.27it/s]\n"
     ]
    }
   ],
   "source": [
    "# Train your own Word2Vec model using your own text corpus\n",
    "i=0\n",
    "list_of_sentence=[]\n",
    "for sentence in tqdm(cleaned_reviews):\n",
    "    list_of_sentence.append(sentence.split())"
   ]
  },
  {
   "cell_type": "code",
   "execution_count": 32,
   "metadata": {},
   "outputs": [],
   "source": [
    "outfile = open(\"list_of_sentence\",\"wb\")\n",
    "pickle.dump(list_of_sentence,outfile)\n",
    "outfile.close()"
   ]
  },
  {
   "cell_type": "code",
   "execution_count": 41,
   "metadata": {
    "scrolled": true
   },
   "outputs": [
    {
     "name": "stdout",
     "output_type": "stream",
     "text": [
      "[('fantastic', 0.8564410209655762), ('good', 0.8339499235153198), ('terrific', 0.8293559551239014), ('awesome', 0.8228894472122192), ('excellent', 0.8163968324661255), ('wonderful', 0.767386257648468), ('perfect', 0.7606471180915833), ('nice', 0.7306604981422424), ('amazing', 0.7093859910964966), ('decent', 0.708103597164154)]\n",
      "==================================================\n",
      "[('greatest', 0.8057908415794373), ('tastiest', 0.7508324384689331), ('best', 0.7100083827972412), ('weakest', 0.653785765171051), ('nastiest', 0.6437786817550659), ('surpass', 0.6423906087875366), ('coolest', 0.6342161893844604), ('disgusting', 0.6276921033859253), ('hottest', 0.6255906820297241), ('closest', 0.6034766435623169)]\n"
     ]
    }
   ],
   "source": [
    "# Using Google News Word2Vectors\n",
    "\n",
    "# in this project we are using a pretrained model by google\n",
    "# its 3.3G file, once you load this into your memory \n",
    "# it occupies ~9Gb \n",
    "# To use this code-snippet, download \"GoogleNews-vectors-negative300.bin\" \n",
    "# from https://drive.google.com/file/d/0B7XkCwpI5KDYNlNUTTlSS21pQmM/edit\n",
    "# it's 1.9GB in size.\n",
    "\n",
    "\n",
    "# http://kavita-ganesan.com/gensim-word2vec-tutorial-starter-code/#.W17SRFAzZPY\n",
    "# you can comment this whole cell\n",
    "# or change these varible according to your need\n",
    "\n",
    "is_your_ram_gt_16g=False\n",
    "want_to_use_google_w2v =False\n",
    "want_to_train_w2v = True\n",
    "\n",
    "if want_to_train_w2v:\n",
    "    # min_count = 5 considers only words that occured atleast 5 times\n",
    "    w2v_model=Word2Vec(list_of_sentence,min_count=5,size=50, workers=4)\n",
    "    print(w2v_model.wv.most_similar('great'))\n",
    "    print('='*50)\n",
    "    print(w2v_model.wv.most_similar('worst'))\n",
    "    \n",
    "elif want_to_use_google_w2v and is_your_ram_gt_16g:\n",
    "    if os.path.isfile('GoogleNews-vectors-negative300.bin'):\n",
    "        w2v_model=KeyedVectors.load_word2vec_format('GoogleNews-vectors-negative300.bin', binary=True)\n",
    "        print(w2v_model.wv.most_similar('great'))\n",
    "        print(w2v_model.wv.most_similar('worst'))\n",
    "    else:\n",
    "        print(\"you don't have gogole's word2vec file, keep want_to_train_w2v = True, to train your own w2v \")"
   ]
  },
  {
   "cell_type": "code",
   "execution_count": 42,
   "metadata": {},
   "outputs": [
    {
     "name": "stdout",
     "output_type": "stream",
     "text": [
      "number of words that occured minimum 5 times  17061\n",
      "sample words  ['dogs', 'loves', 'chicken', 'product', 'china', 'not', 'buying', 'anymore', 'hard', 'find', 'products', 'made', 'usa', 'one', 'bad', 'good', 'take', 'chances', 'till', 'know', 'going', 'imports', 'love', 'saw', 'pet', 'store', 'tag', 'attached', 'regarding', 'satisfied', 'safe', 'infestation', 'literally', 'everywhere', 'flying', 'around', 'kitchen', 'bought', 'hoping', 'least', 'get', 'rid', 'weeks', 'fly', 'stuck', 'squishing', 'buggers', 'success', 'rate', 'day']\n"
     ]
    }
   ],
   "source": [
    "w2v_words = list(w2v_model.wv.vocab)\n",
    "print(\"number of words that occured minimum 5 times \",len(w2v_words))\n",
    "print(\"sample words \", w2v_words[0:50])"
   ]
  },
  {
   "cell_type": "markdown",
   "metadata": {},
   "source": [
    "## [4.4.1] Converting text into vectors using Avg W2V, TFIDF-W2V"
   ]
  },
  {
   "cell_type": "markdown",
   "metadata": {},
   "source": [
    "#### [4.4.1.1] Avg W2v"
   ]
  },
  {
   "cell_type": "code",
   "execution_count": 52,
   "metadata": {},
   "outputs": [
    {
     "ename": "KeyboardInterrupt",
     "evalue": "",
     "output_type": "error",
     "traceback": [
      "\u001b[1;31m---------------------------------------------------------------------------\u001b[0m",
      "\u001b[1;31mKeyboardInterrupt\u001b[0m                         Traceback (most recent call last)",
      "\u001b[1;32m<ipython-input-52-6e7e3cb11537>\u001b[0m in \u001b[0;36m<module>\u001b[1;34m()\u001b[0m\n\u001b[0;32m      8\u001b[0m         \u001b[1;32mif\u001b[0m \u001b[0mword\u001b[0m \u001b[1;32min\u001b[0m \u001b[0mw2v_words\u001b[0m\u001b[1;33m:\u001b[0m\u001b[1;33m\u001b[0m\u001b[0m\n\u001b[0;32m      9\u001b[0m             \u001b[0mvec\u001b[0m \u001b[1;33m=\u001b[0m \u001b[0mw2v_model\u001b[0m\u001b[1;33m.\u001b[0m\u001b[0mwv\u001b[0m\u001b[1;33m[\u001b[0m\u001b[0mword\u001b[0m\u001b[1;33m]\u001b[0m\u001b[1;33m\u001b[0m\u001b[0m\n\u001b[1;32m---> 10\u001b[1;33m             \u001b[0msent_vec\u001b[0m \u001b[1;33m+=\u001b[0m \u001b[0mvec\u001b[0m\u001b[1;33m\u001b[0m\u001b[0m\n\u001b[0m\u001b[0;32m     11\u001b[0m             \u001b[0mcnt_words\u001b[0m \u001b[1;33m+=\u001b[0m \u001b[1;36m1\u001b[0m\u001b[1;33m\u001b[0m\u001b[0m\n\u001b[0;32m     12\u001b[0m     \u001b[1;32mif\u001b[0m \u001b[0mcnt_words\u001b[0m \u001b[1;33m!=\u001b[0m \u001b[1;36m0\u001b[0m\u001b[1;33m:\u001b[0m\u001b[1;33m\u001b[0m\u001b[0m\n",
      "\u001b[1;31mKeyboardInterrupt\u001b[0m: "
     ]
    }
   ],
   "source": [
    "# average Word2Vec\n",
    "# compute average word2vec for each review.\n",
    "sent_vectors = []; # the avg-w2v for each sentence/review is stored in this list\n",
    "for sent in list_of_sentence: # for each review/sentence\n",
    "    sent_vec = np.zeros(50) # as word vectors are of zero length 50, you might need to change this to 300 if you use google's w2v\n",
    "    cnt_words =0; # num of words with a valid vector in the sentence/review\n",
    "    for word in sent: # for each word in a review/sentence\n",
    "        if word in w2v_words:\n",
    "            vec = w2v_model.wv[word]\n",
    "            sent_vec += vec\n",
    "            cnt_words += 1\n",
    "    if cnt_words != 0:\n",
    "        sent_vec /= cnt_words\n",
    "    sent_vectors.append(sent_vec)\n",
    "print(len(sent_vectors))\n",
    "print(len(sent_vectors[0]))"
   ]
  },
  {
   "cell_type": "markdown",
   "metadata": {},
   "source": [
    "#### [4.4.1.2] TFIDF weighted W2v"
   ]
  },
  {
   "cell_type": "code",
   "execution_count": 43,
   "metadata": {},
   "outputs": [],
   "source": [
    "# S = [\"abc def pqr\", \"def def def abc\", \"pqr pqr def\"]\n",
    "model = TfidfVectorizer()\n",
    "tf_idf_matrix = model.fit_transform(cleaned_reviews)\n",
    "# we are converting a dictionary with word as a key, and the idf as a value\n",
    "dictionary = dict(zip(model.get_feature_names(), list(model.idf_)))"
   ]
  },
  {
   "cell_type": "code",
   "execution_count": 44,
   "metadata": {
    "scrolled": true
   },
   "outputs": [
    {
     "ename": "KeyboardInterrupt",
     "evalue": "",
     "output_type": "error",
     "traceback": [
      "\u001b[1;31m---------------------------------------------------------------------------\u001b[0m",
      "\u001b[1;31mKeyboardInterrupt\u001b[0m                         Traceback (most recent call last)",
      "\u001b[1;32m<ipython-input-44-acbebc07d9a9>\u001b[0m in \u001b[0;36m<module>\u001b[1;34m()\u001b[0m\n\u001b[0;32m     16\u001b[0m             \u001b[1;31m# sent.count(word) = tf values of word in this review\u001b[0m\u001b[1;33m\u001b[0m\u001b[1;33m\u001b[0m\u001b[0m\n\u001b[0;32m     17\u001b[0m             \u001b[0mtf_idf\u001b[0m \u001b[1;33m=\u001b[0m \u001b[0mdictionary\u001b[0m\u001b[1;33m[\u001b[0m\u001b[0mword\u001b[0m\u001b[1;33m]\u001b[0m\u001b[1;33m*\u001b[0m\u001b[1;33m(\u001b[0m\u001b[0msent\u001b[0m\u001b[1;33m.\u001b[0m\u001b[0mcount\u001b[0m\u001b[1;33m(\u001b[0m\u001b[0mword\u001b[0m\u001b[1;33m)\u001b[0m\u001b[1;33m/\u001b[0m\u001b[0mlen\u001b[0m\u001b[1;33m(\u001b[0m\u001b[0msent\u001b[0m\u001b[1;33m)\u001b[0m\u001b[1;33m)\u001b[0m\u001b[1;33m\u001b[0m\u001b[0m\n\u001b[1;32m---> 18\u001b[1;33m             \u001b[0msent_vec\u001b[0m \u001b[1;33m+=\u001b[0m \u001b[1;33m(\u001b[0m\u001b[0mvec\u001b[0m \u001b[1;33m*\u001b[0m \u001b[0mtf_idf\u001b[0m\u001b[1;33m)\u001b[0m\u001b[1;33m\u001b[0m\u001b[0m\n\u001b[0m\u001b[0;32m     19\u001b[0m             \u001b[0mweight_sum\u001b[0m \u001b[1;33m+=\u001b[0m \u001b[1;36m1\u001b[0m\u001b[1;33m\u001b[0m\u001b[0m\n\u001b[0;32m     20\u001b[0m     \u001b[1;32mif\u001b[0m \u001b[0mweight_sum\u001b[0m \u001b[1;33m!=\u001b[0m \u001b[1;36m0\u001b[0m\u001b[1;33m:\u001b[0m\u001b[1;33m\u001b[0m\u001b[0m\n",
      "\u001b[1;31mKeyboardInterrupt\u001b[0m: "
     ]
    }
   ],
   "source": [
    "# TF-IDF weighted Word2Vec\n",
    "tfidf_feat = model.get_feature_names() # tfidf words/col-names\n",
    "# final_tf_idf is the sparse matrix with row= sentence, col=word and cell_val = tfidf\n",
    "\n",
    "tfidf_sent_vectors = []; # the tfidf-w2v for each sentence/review is stored in this list\n",
    "row=0;\n",
    "for sent in list_of_sentence: # for each review/sentence \n",
    "    sent_vec = np.zeros(50) # as word vectors are of zero length\n",
    "    weight_sum =0; # num of words with a valid vector in the sentence/review\n",
    "    for word in sent: # for each word in a review/sentence\n",
    "        if word in w2v_words and word in tfidf_feat:\n",
    "            vec = w2v_model.wv[word]\n",
    "            #tf_idf = tf_idf_matrix[row, tfidf_feat.index(word)]\n",
    "            # to reduce the computation we are \n",
    "            # dictionary[word] = idf value of word in whole courpus\n",
    "            # sent.count(word) = tf values of word in this review\n",
    "            tf_idf = dictionary[word]*(sent.count(word)/len(sent))\n",
    "            sent_vec += (vec * tf_idf)\n",
    "            weight_sum += 1\n",
    "    if weight_sum != 0:\n",
    "        sent_vec /= weight_sum\n",
    "    tfidf_sent_vectors.append(sent_vec)\n",
    "    row += 1"
   ]
  },
  {
   "cell_type": "code",
   "execution_count": 45,
   "metadata": {},
   "outputs": [
    {
     "name": "stdout",
     "output_type": "stream",
     "text": [
      "64957\n",
      "50\n"
     ]
    }
   ],
   "source": [
    "print(len(tfidf_sent_vectors))\n",
    "print(len(tfidf_sent_vectors[0]))"
   ]
  },
  {
   "cell_type": "code",
   "execution_count": 46,
   "metadata": {},
   "outputs": [],
   "source": [
    "# Function to plot confusion matrix\n",
    "def confusion_matrix_plot(test_y, predict_y):\n",
    "    # C stores the confusion matrix \n",
    "    C = confusion_matrix(test_y, predict_y)\n",
    "    \n",
    "    # Class labels \n",
    "    labels_x = [\"Predicted No\",\"Predicted Yes\"]\n",
    "    labels_y = [\"Original No\",\"Original Yes\"]\n",
    "    \n",
    "    cmap=sns.light_palette(\"orange\")\n",
    "    print(\"Confusion matrix\")\n",
    "    plt.figure(figsize=(4,4))\n",
    "    sns.heatmap(C, annot=True, cmap=cmap, fmt=\".3f\", xticklabels=labels_x, yticklabels=labels_y)\n",
    "    plt.show()"
   ]
  },
  {
   "cell_type": "code",
   "execution_count": 47,
   "metadata": {},
   "outputs": [],
   "source": [
    "# Function to plot roc curve\n",
    "\n",
    "def plot_roc_curve(Y_test,predict_y_test,Y_train,predict_y_train):\n",
    "    fpr1,tpr1,threshold1 = roc_curve(Y_test,predict_y_test) # For test dataset\n",
    "    fpr2,tpr2,threshold2 = roc_curve(Y_train,predict_y_train) # For train dataset\n",
    "    \n",
    "    plt.plot([0,1],[0,1])\n",
    "    plt.plot(fpr1,tpr1,label=\"Validation AUC\")\n",
    "    plt.plot(fpr2,tpr2,label=\"Train AUC\")\n",
    "    plt.xlabel(\"fpr\")\n",
    "    plt.ylabel(\"tpr\")\n",
    "    plt.legend()\n",
    "    plt.show()"
   ]
  },
  {
   "cell_type": "code",
   "execution_count": 48,
   "metadata": {},
   "outputs": [],
   "source": [
    "# Plotting graph of auc and parameter for training and cross validation error\n",
    "param = [1,3,5,7,9,11,13,15,17,19,21,23,25,27,29]\n",
    "\n",
    "def plot_knn_vs_auc(train_auc_list,cv_auc_list):\n",
    "    plt.plot(param,train_auc_list,label=\"Train AUC\")\n",
    "    plt.xlabel(\"Parameter for K-NN\")\n",
    "    plt.ylabel(\"Area Under Curve\")\n",
    "    plt.plot(param,cv_auc_list,label=\"Validation AUC\")\n",
    "    plt.legend()\n",
    "    plt.show()"
   ]
  },
  {
   "cell_type": "markdown",
   "metadata": {},
   "source": [
    "# [5] Assignment 3: KNN"
   ]
  },
  {
   "cell_type": "markdown",
   "metadata": {},
   "source": [
    "<ol>\n",
    "    <li><strong>Apply Knn(brute force version) on these feature sets</strong>\n",
    "        <ul>\n",
    "            <li><font color='red'>SET 1:</font>Review text, preprocessed one converted into vectors using (BOW)</li>\n",
    "            <li><font color='red'>SET 2:</font>Review text, preprocessed one converted into vectors using (TFIDF)</li>\n",
    "            <li><font color='red'>SET 3:</font>Review text, preprocessed one converted into vectors using (AVG W2v)</li>\n",
    "            <li><font color='red'>SET 4:</font>Review text, preprocessed one converted into vectors using (TFIDF W2v)</li>\n",
    "        </ul>\n",
    "    </li>\n",
    "    <br>\n",
    "    <li><strong>Apply Knn(kd tree version) on these feature sets</strong>\n",
    "        <br><font color='red'>NOTE: </font>sklearn implementation of kd-tree accepts only dense matrices, you need to convert the sparse matrices of CountVectorizer/TfidfVectorizer into dense matices. You can convert sparse matrices to dense using .toarray() attribute. For more information please visit this <a href='https://docs.scipy.org/doc/scipy-0.18.1/reference/generated/scipy.sparse.csr_matrix.toarray.html'>link</a>\n",
    "        <ul>\n",
    "            <li><font color='red'>SET 5:</font>Review text, preprocessed one converted into vectors using (BOW) but with restriction on maximum features generated.\n",
    "            <pre>\n",
    "            count_vect = CountVectorizer(min_df=10, max_features=500) \n",
    "            count_vect.fit(preprocessed_reviews)\n",
    "            </pre>\n",
    "            </li>\n",
    "            <li><font color='red'>SET 6:</font>Review text, preprocessed one converted into vectors using (TFIDF) but with restriction on maximum features generated.\n",
    "            <pre>\n",
    "                tf_idf_vect = TfidfVectorizer(min_df=10, max_features=500)\n",
    "                tf_idf_vect.fit(preprocessed_reviews)\n",
    "            </pre>\n",
    "            </li>\n",
    "            <li><font color='red'>SET 3:</font>Review text, preprocessed one converted into vectors using (AVG W2v)</li>\n",
    "            <li><font color='red'>SET 4:</font>Review text, preprocessed one converted into vectors using (TFIDF W2v)</li>\n",
    "        </ul>\n",
    "    </li>\n",
    "    <br>\n",
    "    <li><strong>The hyper paramter tuning(find best K)</strong>\n",
    "        <ul>\n",
    "    <li>Find the best hyper parameter which will give the maximum <a href='https://www.appliedaicourse.com/course/applied-ai-course-online/lessons/receiver-operating-characteristic-curve-roc-curve-and-auc-1/'>AUC</a> value</li>\n",
    "    <li>Find the best hyper paramter using k-fold cross validation or simple cross validation data</li>\n",
    "    <li>Use gridsearch cv or randomsearch cv or you can also write your own for loops to do this task of hyperparameter tuning</li>\n",
    "        </ul>\n",
    "    </li>\n",
    "    <br>\n",
    "    <li>\n",
    "    <strong>Representation of results</strong>\n",
    "        <ul>\n",
    "    <li>You need to plot the performance of model both on train data and cross validation data for each hyper parameter, like shown in the figure\n",
    "    <img src='train_cv_auc.JPG' width=300px></li>\n",
    "    <li>Once after you found the best hyper parameter, you need to train your model with it, and find the AUC on test data and plot the ROC curve on both train and test.\n",
    "    <img src='train_test_auc.JPG' width=300px></li>\n",
    "    <li>Along with plotting ROC curve, you need to print the <a href='https://www.appliedaicourse.com/course/applied-ai-course-online/lessons/confusion-matrix-tpr-fpr-fnr-tnr-1/'>confusion matrix</a> with predicted and original labels of test data points\n",
    "    <img src='confusion_matrix.png' width=300px></li>\n",
    "        </ul>\n",
    "    </li>\n",
    "    <br>\n",
    "    <li><strong>Conclusion</strong>\n",
    "        <ul>\n",
    "    <li>You need to summarize the results at the end of the notebook, summarize it in the table format. To print out a table please refer to this prettytable library<a href='http://zetcode.com/python/prettytable/'> link</a> \n",
    "        <img src='summary.JPG' width=400px>\n",
    "    </li>\n",
    "        </ul>\n",
    "</ol>"
   ]
  },
  {
   "cell_type": "markdown",
   "metadata": {},
   "source": [
    "<h4><font color='red'>Note: Data Leakage</font></h4>\n",
    "\n",
    "1. There will be an issue of data-leakage if you vectorize the entire data and then split it into train/cv/test.\n",
    "2. To avoid the issue of data-leakag, make sure to split your data first and then vectorize it. \n",
    "3. While vectorizing your data, apply the method fit_transform() on you train data, and apply the method transform() on cv/test data.\n",
    "4. For more details please go through this <a href='https://soundcloud.com/applied-ai-course/leakage-bow-and-tfidf'>link.</a>"
   ]
  },
  {
   "cell_type": "markdown",
   "metadata": {},
   "source": [
    "## [5.1] Applying KNN brute force"
   ]
  },
  {
   "cell_type": "markdown",
   "metadata": {},
   "source": [
    "### [5.1.1] Applying KNN brute force on BOW,<font color='red'> SET 1</font>"
   ]
  },
  {
   "cell_type": "code",
   "execution_count": 49,
   "metadata": {},
   "outputs": [
    {
     "name": "stdout",
     "output_type": "stream",
     "text": [
      "61441 61441 26332 26332\n"
     ]
    }
   ],
   "source": [
    "from sklearn.cross_validation import train_test_split\n",
    "\n",
    "# cleaned_reviews contains all the required reviews\n",
    "# Splitting cleaned_reviews into train and test dataset\n",
    "\n",
    "X = cleaned_reviews\n",
    "Y = final['Score']\n",
    "\n",
    "X_train,X_test,Y_train,Y_test = train_test_split(X,Y,test_size=0.3,random_state=42)\n",
    "print(len(X_train),len(Y_train),len(X_test),len(Y_test))"
   ]
  },
  {
   "cell_type": "code",
   "execution_count": 50,
   "metadata": {},
   "outputs": [
    {
     "name": "stdout",
     "output_type": "stream",
     "text": [
      "(61441, 2000) (26332, 2000)\n"
     ]
    }
   ],
   "source": [
    "# Now we will vectorize train and test datasets separately using BagofWords\n",
    "# Use fit_transform to vectorize train dataset and transform to vectorize test dataset\n",
    "count_vect2 = CountVectorizer(max_features=2000)\n",
    "X_train = count_vect2.fit_transform(X_train)\n",
    "X_test = count_vect2.transform(X_test)\n",
    "print(X_train.shape,X_test.shape)"
   ]
  },
  {
   "cell_type": "code",
   "execution_count": 52,
   "metadata": {},
   "outputs": [
    {
     "name": "stderr",
     "output_type": "stream",
     "text": [
      "100%|██████████████████████████████████████████████████████████████████████████████████| 15/15 [10:10<00:00, 35.93s/it]\n",
      "100%|██████████████████████████████████████████████████████████████████████████████████| 15/15 [06:07<00:00, 24.80s/it]\n",
      "100%|██████████████████████████████████████████████████████████████████████████████████| 15/15 [06:35<00:00, 25.38s/it]\n"
     ]
    }
   ],
   "source": [
    "# In this section we will calculate training error.\n",
    "# To calculate training error you have to train model using training data and \n",
    "# Then test the same model on trainig data and compare the predicted labels with actual labels\n",
    "from sklearn.model_selection import TimeSeriesSplit\n",
    "from sklearn.metrics import roc_auc_score\n",
    "from sklearn.neighbors import KNeighborsClassifier\n",
    "\n",
    "param_list = [1,3,5,7,9,11,13,15,17,19,21,23,25,27,29]\n",
    "train_auc_list1 = []   # This contains area under curve value of first batch corresponding for each k\n",
    "train_auc_list2 = []   # for second batch \n",
    "train_auc_list3 = []   # for third batch\n",
    "\n",
    "# Testing whole training data at once takes a lot of memory which takes a lot of time .\n",
    "# There fore we are dividing training data into 3 parts and then we will calculate AUC\n",
    "    \n",
    "x_train_1 = X_train[0:20000][:] # Row 0 to 19999 and all columns\n",
    "x_train_2 = X_train[20000:40000][:]\n",
    "x_train_3 = X_train[40000:61441][:]\n",
    "\n",
    "y_train_1 = Y_train[0:20000][:] # Row 0 to 19999 and all columns\n",
    "y_train_2 = Y_train[20000:40000][:]\n",
    "y_train_3 = Y_train[40000:61441][:]\n",
    "\n",
    "# Calculating training error for first batch\n",
    "for k in tqdm(range(1,30,2)):\n",
    "    clf = KNeighborsClassifier(n_neighbors=k,algorithm=\"brute\",leaf_size=30)\n",
    "    clf.fit(x_train_1,y_train_1)\n",
    "\n",
    "    pre_probab = clf.predict_proba(x_train_1)[:,1] # Returns probability of positive class\n",
    "    \n",
    "    auc = roc_auc_score(y_train_1,pre_probab)\n",
    "    train_auc_list1.append(auc)\n",
    "\n",
    "# Calculating training error for second batch\n",
    "for k in tqdm(range(1,30,2)):\n",
    "    clf = KNeighborsClassifier(n_neighbors=k,algorithm=\"brute\",leaf_size=30)\n",
    "    clf.fit(x_train_2,y_train_2)\n",
    "\n",
    "    pre_probab = clf.predict_proba(x_train_2)[:,1]\n",
    "    \n",
    "    auc = roc_auc_score(y_train_2,pre_probab)\n",
    "    train_auc_list2.append(auc)\n",
    "    \n",
    "\n",
    "# Calculating training error for third batch\n",
    "for k in tqdm(range(1,30,2)):\n",
    "    clf = KNeighborsClassifier(n_neighbors=k,algorithm=\"brute\",leaf_size=30)\n",
    "    clf.fit(x_train_3,y_train_3)\n",
    "\n",
    "    pre_probab = clf.predict_proba(x_train_3)[:,1]\n",
    "    \n",
    "    auc = roc_auc_score(y_train_3,pre_probab)\n",
    "    train_auc_list3.append(auc)\n",
    "\n"
   ]
  },
  {
   "cell_type": "code",
   "execution_count": 53,
   "metadata": {},
   "outputs": [],
   "source": [
    "# Combining training result of each batch together\n",
    "train_auc_list = [(x+y+z)/3 for x,y,z in zip(train_auc_list1,train_auc_list2,train_auc_list3)]"
   ]
  },
  {
   "cell_type": "code",
   "execution_count": 54,
   "metadata": {},
   "outputs": [],
   "source": [
    "# We will do time based splitting and do 10 fold cross validation \n",
    "# This is done as reviews keeps changing with time and hence time based splitting is required\n",
    "\n",
    "\n",
    "# Time series object\n",
    "tscv = TimeSeriesSplit(n_splits=10)\n",
    "\n",
    "cv_auc_list = [] # will contain cross validation AUC corresponding to each k \n",
    "\n",
    "for k in range(1,30,2):\n",
    "    # KNN Classifier\n",
    "    clf = KNeighborsClassifier(n_neighbors=k,algorithm='brute',leaf_size=30)\n",
    "    i=0\n",
    "    auc=0.0\n",
    "    for train_index,test_index in tscv.split(X_train):\n",
    "        x_train = X_train[0:train_index[-1]][:] # row 0 to train_index(excluding)\n",
    "        y_train = Y_train[0:train_index[-1]][:] # row 0 to train_index(excluding)\n",
    "        x_test = X_train[train_index[-1]:test_index[-1]][:] # row from train_index to test_index(excluding) will be selected\n",
    "        y_test = Y_train[train_index[-1]:test_index[-1]][:] # row from train_index to test_index(excluding) will be selected\n",
    "    \n",
    "        clf.fit(x_train,y_train)\n",
    "    \n",
    "        predict_probab = clf.predict_proba(x_test)[:,1]\n",
    "        i += 1\n",
    "        auc += roc_auc_score(y_test,predict_probab)\n",
    "        \n",
    "    cv_auc_list.append(auc/i) # Storing AUC value\n",
    "        \n",
    "        "
   ]
  },
  {
   "cell_type": "code",
   "execution_count": 55,
   "metadata": {},
   "outputs": [
    {
     "data": {
      "image/png": "[encoded data removed]",
      "text/plain": [
       "<matplotlib.figure.Figure at 0x1d799908278>"
      ]
     },
     "metadata": {},
     "output_type": "display_data"
    }
   ],
   "source": [
    "import matplotlib.pyplot as plt\n",
    "\n",
    "# Plotting graph of auc and parameter for training and cross validation error\n",
    "plot_knn_vs_auc(train_auc_list,cv_auc_list)"
   ]
  },
  {
   "cell_type": "markdown",
   "metadata": {},
   "source": [
    "<h4> Observing the graph we will select a k for which AUC is not very high in training error plot to avoid overfitting \n",
    "and select a k for which AUC is not very low in Cross-validation error to avoid underfitting.\n",
    "Therefore we are selecting k = 25 . </h4>"
   ]
  },
  {
   "cell_type": "code",
   "execution_count": 56,
   "metadata": {},
   "outputs": [
    {
     "name": "stdout",
     "output_type": "stream",
     "text": [
      "Final AUC is ::0.73\n"
     ]
    }
   ],
   "source": [
    "# Training final model on best auc and taking k = 25\n",
    "\n",
    "# Training one model with all the data hangs the PC . \n",
    "# Therefore we will divide data into 3 parts and then train three seperate models.\n",
    "final_clf1 = KNeighborsClassifier(n_neighbors=25,algorithm='brute',leaf_size=30)\n",
    "final_clf1.fit(x_train_1,y_train_1)\n",
    "predict_probab_1 = final_clf1.predict_proba(X_test)[:,1] # This returns only probability of +ve class \n",
    "predict_y1 = final_clf1.predict(X_test) \n",
    "predict_y_train1 = final_clf1.predict(x_train_1)\n",
    "\n",
    "final_clf2 = KNeighborsClassifier(n_neighbors=25,algorithm='brute',leaf_size=30)\n",
    "final_clf2.fit(x_train_2,y_train_2)\n",
    "predict_probab_2 = final_clf2.predict_proba(X_test)[:,1] # This returns only probability of +ve class \n",
    "predict_y2 = final_clf2.predict(X_test) \n",
    "predict_y_train2 = final_clf2.predict(x_train_2)\n",
    "\n",
    "final_clf3 = KNeighborsClassifier(n_neighbors=25,algorithm='brute',leaf_size=30)\n",
    "final_clf3.fit(x_train_3,y_train_3)\n",
    "predict_probab_3 = final_clf3.predict_proba(X_test)[:,1] # This returns only probability of +ve class \n",
    "predict_y3 = final_clf3.predict(X_test) \n",
    "predict_y_train3 = final_clf3.predict(x_train_3)\n",
    "\n",
    "# Now merging,n_jobs=3 all the three probability scores into one \n",
    "\n",
    "predict_probab = [(x+y+z)/3 for x,y,z in zip(predict_probab_1,predict_probab_2,predict_probab_3)]\n",
    "\n",
    "\n",
    "\n",
    "auc = roc_auc_score(Y_test,predict_probab)\n",
    "print(\"Final AUC is ::{:.2f}\".format(auc))\n"
   ]
  },
  {
   "cell_type": "code",
   "execution_count": 57,
   "metadata": {},
   "outputs": [],
   "source": [
    "# combining labels predicted by all the models\n",
    "predict_y = [1 if (x+y+z)>= 2 else 0 for x,y,z in zip(predict_y1,predict_y2,predict_y3)]"
   ]
  },
  {
   "cell_type": "code",
   "execution_count": 58,
   "metadata": {},
   "outputs": [],
   "source": [
    "# Combining results of train dataset evaluation\n",
    "predict_y_train = np.concatenate((predict_y_train1,predict_y_train2),axis=None)\n",
    "predict_y_train = np.concatenate((predict_y_train,predict_y_train3),axis=None)"
   ]
  },
  {
   "cell_type": "code",
   "execution_count": 59,
   "metadata": {},
   "outputs": [
    {
     "name": "stdout",
     "output_type": "stream",
     "text": [
      "Confusion matrix\n"
     ]
    },
    {
     "data": {
      "image/png": "[encoded data removed]",
      "text/plain": [
       "<matplotlib.figure.Figure at 0x1d799908898>"
      ]
     },
     "metadata": {},
     "output_type": "display_data"
    }
   ],
   "source": [
    "# Plotting confusion matrix\n",
    "confusion_matrix_plot(Y_test,predict_y)"
   ]
  },
  {
   "cell_type": "code",
   "execution_count": 60,
   "metadata": {},
   "outputs": [
    {
     "data": {
      "image/png": "[encoded data removed]",
      "text/plain": [
       "<matplotlib.figure.Figure at 0x1d7a8844ba8>"
      ]
     },
     "metadata": {},
     "output_type": "display_data"
    }
   ],
   "source": [
    "# Plotting ROC Curve\n",
    "plot_roc_curve(Y_test,predict_y,Y_train,predict_y_train)"
   ]
  },
  {
   "cell_type": "markdown",
   "metadata": {},
   "source": [
    "### [5.1.2] Applying KNN brute force on TFIDF"
   ]
  },
  {
   "cell_type": "code",
   "execution_count": 99,
   "metadata": {},
   "outputs": [],
   "source": [
    "# In this section Tfidf will be used for vectorization\n",
    "# Splitting datasets into train and test datasets\n",
    "\n",
    "X_train,X_test,Y_train,Y_test = train_test_split(X,Y,test_size=0.3,random_state=42)\n",
    "\n",
    "# Initializinf TFidf\n",
    "tf_idf_vect2 = TfidfVectorizer(max_features=2000)\n",
    "# Now we will vectorize train and test datasets separately using Tfidf \n",
    "# Use fit_transform to vectorize train dataset and transform to vectorize test dataset\n",
    "X_train = tf_idf_vect2.fit_transform(X_train)\n",
    "X_test = tf_idf_vect2.transform(X_test)"
   ]
  },
  {
   "cell_type": "code",
   "execution_count": 100,
   "metadata": {},
   "outputs": [],
   "source": [
    "param_list = [1,3,5,7,9,11,13,15,17,19,21,23,25,27,29]\n",
    "train_auc_list1 = []   # This contains area under curve value of first batch corresponding for each k\n",
    "train_auc_list2 = []   # for second batch \n",
    "train_auc_list3 = []   # for third batch\n",
    "\n",
    "# Testing whole training data at once takes a lot of memory which takes a lot of time .\n",
    "# There fore we are dividing training data into 3 parts and then we will calculate AUC\n",
    "    \n",
    "x_train_1 = X_train[0:20000][:] # Row 0 to 19999 and all columns\n",
    "x_train_2 = X_train[20000:40000][:]\n",
    "x_train_3 = X_train[40000:61441][:]\n",
    "\n",
    "y_train_1 = Y_train[0:20000][:] # Row 0 to 19999 and all columns\n",
    "y_train_2 = Y_train[20000:40000][:]\n",
    "y_train_3 = Y_train[40000:61441][:]\n",
    "\n",
    "# Calculating training error for first batch\n",
    "for k in range(1,30,2):\n",
    "    clf = KNeighborsClassifier(n_neighbors=k,algorithm=\"brute\",leaf_size=30)\n",
    "    clf.fit(x_train_1,y_train_1)\n",
    "\n",
    "    pre_probab = clf.predict_proba(x_train_1)[:,1] # Returns probability of positive class\n",
    "    \n",
    "    auc = roc_auc_score(y_train_1,pre_probab)\n",
    "    train_auc_list1.append(auc)\n",
    "\n",
    "# Calculating training error for second batch\n",
    "for k in range(1,30,2):\n",
    "    clf = KNeighborsClassifier(n_neighbors=k,algorithm=\"brute\",leaf_size=30)\n",
    "    clf.fit(x_train_2,y_train_2)\n",
    "\n",
    "    pre_probab = clf.predict_proba(x_train_2)[:,1]\n",
    "    \n",
    "    auc = roc_auc_score(y_train_2,pre_probab)\n",
    "    train_auc_list2.append(auc)\n",
    "    \n",
    "\n",
    "# Calculating training error for third batch\n",
    "for k in range(1,30,2):\n",
    "    clf = KNeighborsClassifier(n_neighbors=k,algorithm=\"brute\",leaf_size=30)\n",
    "    clf.fit(x_train_3,y_train_3)\n",
    "\n",
    "    pre_probab = clf.predict_proba(x_train_3)[:,1]\n",
    "    \n",
    "    auc = roc_auc_score(y_train_3,pre_probab)\n",
    "    train_auc_list3.append(auc)\n",
    "    \n",
    "# Combining training result of each batch together\n",
    "train_auc_list = [(x+y+z)/3 for x,y,z in zip(train_auc_list1,train_auc_list2,train_auc_list3)]"
   ]
  },
  {
   "cell_type": "code",
   "execution_count": 101,
   "metadata": {},
   "outputs": [],
   "source": [
    "# Performing time series split cross validation\n",
    "\n",
    "auc_list=[]\n",
    "\n",
    "for k in range(1,30,2):\n",
    "    # KNN Classifier\n",
    "    clf = KNeighborsClassifier(n_neighbors=k,algorithm='brute',leaf_size=30,n_jobs=3)\n",
    "    i=0\n",
    "    auc=0.0\n",
    "    for train_index,test_index in tscv.split(X_train):\n",
    "        x_train = X_train[0:train_index[-1]][:] # row 0 to train_index(excluding)\n",
    "        y_train = Y_train[0:train_index[-1]][:] # row 0 to train_index(excluding)\n",
    "        x_test = X_train[train_index[-1]:test_index[-1]][:] # row from train_index to test_index(excluding) will be selected\n",
    "        y_test = Y_train[train_index[-1]:test_index[-1]][:] # row from train_index to test_index(excluding) will be selected\n",
    "    \n",
    "        clf.fit(x_train,y_train)\n",
    "    \n",
    "        predict_probab = clf.predict_proba(x_test)[:,1]\n",
    "        i += 1\n",
    "        auc += roc_auc_score(y_test,predict_probab)\n",
    "    \n",
    "    \n",
    "    auc_list.append(auc/i)\n",
    "\n",
    "        "
   ]
  },
  {
   "cell_type": "code",
   "execution_count": 102,
   "metadata": {},
   "outputs": [
    {
     "data": {
      "image/png": "[encoded data removed]",
      "text/plain": [
       "<matplotlib.figure.Figure at 0x2478c77a0b8>"
      ]
     },
     "metadata": {},
     "output_type": "display_data"
    }
   ],
   "source": [
    "import matplotlib.pyplot as plt\n",
    "\n",
    "# Plotting graph of auc and parameter for training and cross validation error\n",
    "plot_knn_vs_auc(train_auc_list,auc_list)"
   ]
  },
  {
   "cell_type": "code",
   "execution_count": 103,
   "metadata": {},
   "outputs": [
    {
     "name": "stdout",
     "output_type": "stream",
     "text": [
      "Final AUC is ::0.51\n"
     ]
    }
   ],
   "source": [
    "# Training final model on best auc and taking k = 21\n",
    "\n",
    "# Training one model with all the data hangs the PC . \n",
    "# Therefore we will divide data into 3 parts and then train three seperate models.\n",
    "final_clf1 = KNeighborsClassifier(n_neighbors=21,algorithm='brute',leaf_size=30)\n",
    "final_clf1.fit(x_train_1,y_train_1)\n",
    "predict_probab_1 = final_clf1.predict_proba(X_test)[:,1] # This returns only probability of +ve class \n",
    "predict_y1 = final_clf1.predict(X_test)\n",
    "predict_y_train1 = final_clf1.predict(x_train_1)\n",
    "\n",
    "final_clf2 = KNeighborsClassifier(n_neighbors=21,algorithm='brute',leaf_size=30)\n",
    "final_clf2.fit(x_train_2,y_train_2)\n",
    "predict_probab_2 = final_clf2.predict_proba(X_test)[:,1] # This returns only probability of +ve class \n",
    "predict_y2 = final_clf2.predict(X_test)\n",
    "predict_y_train2 = final_clf2.predict(x_train_2)\n",
    "\n",
    "final_clf3 = KNeighborsClassifier(n_neighbors=21,algorithm='brute',leaf_size=30)\n",
    "final_clf3.fit(x_train_3,y_train_3)\n",
    "predict_probab_3 = final_clf3.predict_proba(X_test)[:,1] # This returns only probability of +ve class\n",
    "predict_y3 = final_clf3.predict(X_test)\n",
    "predict_y_train3 = final_clf3.predict(x_train_3)\n",
    "\n",
    "# Now merging all the three probability scores into one \n",
    "predict_probab = [(x+y+z)/3 for x,y,z in zip(predict_probab_1,predict_probab_2,predict_probab_3)]\n",
    "predict_y = [1 if(x+y+x>= 2) else 0 for x,y,z in zip(predict_y1,predict_y2,predict_y3)]\n",
    "\n",
    "# Combining results of train dataset evaluation\n",
    "predict_y_train = np.concatenate((predict_y_train1,predict_y_train2),axis=None)\n",
    "predict_y_train = np.concatenate((predict_y_train,predict_y_train3),axis=None)\n",
    "\n",
    "auc = roc_auc_score(Y_test,predict_probab)\n",
    "print(\"Final AUC is ::{:.2f}\".format(auc))"
   ]
  },
  {
   "cell_type": "code",
   "execution_count": 104,
   "metadata": {},
   "outputs": [
    {
     "name": "stdout",
     "output_type": "stream",
     "text": [
      "Confusion matrix\n"
     ]
    },
    {
     "data": {
      "image/png": "[encoded data removed]",
      "text/plain": [
       "<matplotlib.figure.Figure at 0x2478491c4a8>"
      ]
     },
     "metadata": {},
     "output_type": "display_data"
    }
   ],
   "source": [
    "# plotting confusion matrix\n",
    "confusion_matrix_plot(Y_test,predict_y)"
   ]
  },
  {
   "cell_type": "code",
   "execution_count": 105,
   "metadata": {},
   "outputs": [
    {
     "data": {
      "image/png": "[encoded data removed]",
      "text/plain": [
       "<matplotlib.figure.Figure at 0x2478c4b6940>"
      ]
     },
     "metadata": {},
     "output_type": "display_data"
    }
   ],
   "source": [
    "# Plotting roc curve\n",
    "plot_roc_curve(Y_test,predict_y,Y_train,predict_y_train)"
   ]
  },
  {
   "cell_type": "markdown",
   "metadata": {},
   "source": [
    "### [5.1.3] Applying KNN brute force on AVG W2V,<font color='red'> SET 3</font>"
   ]
  },
  {
   "cell_type": "code",
   "execution_count": 106,
   "metadata": {},
   "outputs": [
    {
     "name": "stdout",
     "output_type": "stream",
     "text": [
      "['use', 'beans', 'espresso', 'machine', 'love', 'taste', 'straight', 'espresso', 'coffee', 'find', 'much', 'caffeine', 'stresses', 'coffee', 'tastes', 'great', 'espresso', 'subscribe', 'coffee', 'amazon', 'receive', 'order', 'month', 'discount', 'free', 'shipping', 'good', 'deal']\n"
     ]
    }
   ],
   "source": [
    "# In this section avg_w2v will be used for vectorization\n",
    "# Splitting datasets into train and test datasets\n",
    "Y = final['Score']\n",
    "X_train,X_test,Y_train,Y_test = train_test_split(list_of_sentence,Y,test_size=0.3,random_state=42)\n",
    "print(X_train[0])\n"
   ]
  },
  {
   "cell_type": "code",
   "execution_count": 107,
   "metadata": {},
   "outputs": [
    {
     "name": "stdout",
     "output_type": "stream",
     "text": [
      "61441\n",
      "50\n"
     ]
    }
   ],
   "source": [
    "# Now we will vectorize train dataset usin avg_w2v\n",
    "train_sent_vectors = []; # the avg-w2v for each sentence/review is stored in this list\n",
    "for sent in X_train: # for each review/sentence\n",
    "    sent_vec = np.zeros(50) # as word vectors are of zero length 50, you might need to change this to 300 if you use google's w2v\n",
    "    cnt_words =0; # num of words with a valid vector in the sentence/review\n",
    "    for word in sent: # for each word in a review/sentence\n",
    "        if word in w2v_words:\n",
    "            vec = w2v_model.wv[word]\n",
    "            sent_vec += vec\n",
    "            cnt_words += 1\n",
    "    if cnt_words != 0:\n",
    "        sent_vec /= cnt_words\n",
    "    train_sent_vectors.append(sent_vec)\n",
    "print(len(train_sent_vectors))\n",
    "print(len(train_sent_vectors[0]))"
   ]
  },
  {
   "cell_type": "code",
   "execution_count": 108,
   "metadata": {},
   "outputs": [
    {
     "name": "stdout",
     "output_type": "stream",
     "text": [
      "26332\n",
      "50\n"
     ]
    }
   ],
   "source": [
    "# Vectorization of test dataset using avg_w2v\n",
    "\n",
    "test_sent_vectors = []; # the avg-w2v for each sentence/review is stored in this list\n",
    "for sent in X_test: # for each review/sentence\n",
    "    sent_vec = np.zeros(50) # as word vectors are of zero length 50, you might need to change this to 300 if you use google's w2v\n",
    "    cnt_words =0; # num of words with a valid vector in the sentence/review\n",
    "    for word in sent: # for each word in a review/sentence\n",
    "        if word in w2v_words:\n",
    "            vec = w2v_model.wv[word]\n",
    "            sent_vec += vec\n",
    "            cnt_words += 1\n",
    "    if cnt_words != 0:\n",
    "        sent_vec /= cnt_words\n",
    "    test_sent_vectors.append(sent_vec)\n",
    "print(len(test_sent_vectors))\n",
    "print(len(test_sent_vectors[0]))"
   ]
  },
  {
   "cell_type": "code",
   "execution_count": 109,
   "metadata": {},
   "outputs": [
    {
     "name": "stderr",
     "output_type": "stream",
     "text": [
      "100%|██████████████████████████████████████████████████████████████████████████████████| 15/15 [02:54<00:00, 12.03s/it]\n",
      "100%|██████████████████████████████████████████████████████████████████████████████████| 15/15 [02:50<00:00, 11.73s/it]\n",
      "100%|██████████████████████████████████████████████████████████████████████████████████| 15/15 [03:19<00:00, 14.13s/it]\n"
     ]
    }
   ],
   "source": [
    "param_list = [1,3,5,7,9,11,13,15,17,19,21,23,25,27,29]\n",
    "train_auc_list1 = []   # This contains area under curve value of first batch corresponding for each k\n",
    "train_auc_list2 = []   # for second batch \n",
    "train_auc_list3 = []   # for third batch\n",
    "\n",
    "# Testing whole training data at once takes a lot of memory which takes a lot of time .\n",
    "# There fore we are dividing training data into 3 parts and then we will calculate AUC\n",
    "    \n",
    "x_train_1 = train_sent_vectors[0:20000][:] # Row 0 to 19999 and all columns\n",
    "x_train_2 = train_sent_vectors[20000:40000][:]\n",
    "x_train_3 = train_sent_vectors[40000:61441][:]\n",
    "\n",
    "y_train_1 = Y_train[0:20000][:] # Row 0 to 19999 and all columns\n",
    "y_train_2 = Y_train[20000:40000][:]\n",
    "y_train_3 = Y_train[40000:61441][:]\n",
    "\n",
    "# Calculating training error for first batch\n",
    "for k in tqdm(range(1,30,2)):\n",
    "    clf = KNeighborsClassifier(n_neighbors=k,algorithm=\"brute\")\n",
    "    clf.fit(x_train_1,y_train_1)\n",
    "\n",
    "    pre_probab = clf.predict_proba(x_train_1)[:,1] # Returns probability of positive class\n",
    "    \n",
    "    auc = roc_auc_score(y_train_1,pre_probab)\n",
    "    train_auc_list1.append(auc)\n",
    "\n",
    "# Calculating training error for second batch\n",
    "for k in tqdm(range(1,30,2)):\n",
    "    clf = KNeighborsClassifier(n_neighbors=k,algorithm=\"brute\")\n",
    "    clf.fit(x_train_2,y_train_2)\n",
    "\n",
    "    pre_probab = clf.predict_proba(x_train_2)[:,1]\n",
    "    \n",
    "    auc = roc_auc_score(y_train_2,pre_probab)\n",
    "    train_auc_list2.append(auc)\n",
    "    \n",
    "\n",
    "# Calculating training error for third batch\n",
    "for k in tqdm(range(1,30,2)):\n",
    "    clf = KNeighborsClassifier(n_neighbors=k,algorithm=\"brute\")\n",
    "    clf.fit(x_train_3,y_train_3)\n",
    "\n",
    "    pre_probab = clf.predict_proba(x_train_3)[:,1]\n",
    "    \n",
    "    auc = roc_auc_score(y_train_3,pre_probab)\n",
    "    train_auc_list3.append(auc)"
   ]
  },
  {
   "cell_type": "code",
   "execution_count": 110,
   "metadata": {},
   "outputs": [],
   "source": [
    "# Combining training result of each batch together\n",
    "train_auc_list = [(x+y+z)/3 for x,y,z in zip(train_auc_list1,train_auc_list2,train_auc_list3)]"
   ]
  },
  {
   "cell_type": "code",
   "execution_count": 111,
   "metadata": {},
   "outputs": [],
   "source": [
    "# 10 fold cross validation using time series splitting\n",
    "from sklearn.model_selection import TimeSeriesSplit\n",
    "tscv = TimeSeriesSplit(n_splits=10)\n",
    "auc_list=[]\n",
    "\n",
    "for k in range(1,30,2):\n",
    "    # KNN Classifier\n",
    "    clf = KNeighborsClassifier(n_neighbors=k,algorithm='brute',leaf_size=30)\n",
    "    i=0\n",
    "    auc=0.0\n",
    "    for train_index,test_index in tscv.split(train_sent_vectors):\n",
    "        x_train = train_sent_vectors[0:train_index[-1]][:] # row 0 to train_index(excluding)\n",
    "        y_train = Y_train[0:train_index[-1]][:] # row 0 to train_index(excluding)\n",
    "        x_test = train_sent_vectors[train_index[-1]:test_index[-1]][:] # row from train_index to test_index will be selected\n",
    "        y_test = Y_train[train_index[-1]:test_index[-1]][:] # row from train_index to test_index(excluding) will be selected\n",
    "    \n",
    "        clf.fit(x_train,y_train)\n",
    "    \n",
    "        predict_probab = clf.predict_proba(x_test)[:,1]\n",
    "        i += 1\n",
    "        auc += roc_auc_score(y_test,predict_probab)\n",
    "    auc_list.append(auc/i)"
   ]
  },
  {
   "cell_type": "code",
   "execution_count": 113,
   "metadata": {},
   "outputs": [
    {
     "data": {
      "image/png": "[encoded data removed]",
      "text/plain": [
       "<matplotlib.figure.Figure at 0x2478c4f7ef0>"
      ]
     },
     "metadata": {},
     "output_type": "display_data"
    }
   ],
   "source": [
    "# Plotting graph of auc and parameter for training and cross validation error\n",
    "plot_knn_vs_auc(train_auc_list,auc_list)"
   ]
  },
  {
   "cell_type": "code",
   "execution_count": 115,
   "metadata": {},
   "outputs": [
    {
     "name": "stdout",
     "output_type": "stream",
     "text": [
      "Final AUC is ::0.90\n"
     ]
    }
   ],
   "source": [
    "# Training final model on best auc and taking k = 25\n",
    "\n",
    "# Training one model with all the data hangs the PC . \n",
    "# Therefore we will divide data into 3 parts and then train three seperate models.\n",
    "final_clf1 = KNeighborsClassifier(n_neighbors=30,algorithm='brute',leaf_size=40)\n",
    "final_clf1.fit(x_train_1,y_train_1)\n",
    "predict_probab_1 = final_clf1.predict_proba(test_sent_vectors)[:,1] # This returns only probability of +ve class \n",
    "predict_y1 = final_clf1.predict(test_sent_vectors)\n",
    "predict_y_train1 = final_clf1.predict(x_train_1)\n",
    "\n",
    "final_clf2 = KNeighborsClassifier(n_neighbors=30,algorithm='brute',leaf_size=40)\n",
    "final_clf2.fit(x_train_2,y_train_2)\n",
    "predict_probab_2 = final_clf2.predict_proba(test_sent_vectors)[:,1] # This returns only probability of +ve class \n",
    "predict_y2 = final_clf2.predict(test_sent_vectors)\n",
    "predict_y_train2 = final_clf2.predict(x_train_2)\n",
    "\n",
    "final_clf3 = KNeighborsClassifier(n_neighbors=30,algorithm='brute',leaf_size=40)\n",
    "final_clf3.fit(x_train_3,y_train_3)\n",
    "predict_probab_3 = final_clf3.predict_proba(test_sent_vectors)[:,1] # This returns only probability of +ve class\n",
    "predict_y3 = final_clf3.predict(test_sent_vectors)\n",
    "predict_y_train3 = final_clf3.predict(x_train_3)\n",
    "\n",
    "# Now merging all the three probability scores into one \n",
    "predict_probab = [(x+y+z)/3 for x,y,z in zip(predict_probab_1,predict_probab_2,predict_probab_3)]\n",
    "predict_y = [1 if(x+y+x>= 2) else 0 for x,y,z in zip(predict_y1,predict_y2,predict_y3)]\n",
    "\n",
    "auc = roc_auc_score(Y_test,predict_probab)\n",
    "print(\"Final AUC is ::{:.2f}\".format(auc))"
   ]
  },
  {
   "cell_type": "code",
   "execution_count": 116,
   "metadata": {},
   "outputs": [
    {
     "name": "stdout",
     "output_type": "stream",
     "text": [
      "61441\n"
     ]
    }
   ],
   "source": [
    "predict_y_train = [] # will store predicted class labels of combined predicted labels\n",
    "\n",
    "# Combining predicted labels of train dataset evaluation\n",
    "# Appending predicted labels of first model\n",
    "for i in predict_y_train1:\n",
    "    predict_y_train.append(i)\n",
    "\n",
    "# Appending predicted labels of second model\n",
    "for i in predict_y_train2:\n",
    "    predict_y_train.append(i)\n",
    "    \n",
    "# Appending predicted labels of third model\n",
    "for i in predict_y_train3:\n",
    "    predict_y_train.append(i)\n",
    "\n",
    "print(len(predict_y_train))"
   ]
  },
  {
   "cell_type": "code",
   "execution_count": 117,
   "metadata": {},
   "outputs": [
    {
     "name": "stdout",
     "output_type": "stream",
     "text": [
      "Confusion matrix\n"
     ]
    },
    {
     "data": {
      "image/png": "[encoded data removed]",
      "text/plain": [
       "<matplotlib.figure.Figure at 0x24782548668>"
      ]
     },
     "metadata": {},
     "output_type": "display_data"
    }
   ],
   "source": [
    "# Plotting confusion matrix\n",
    "confusion_matrix_plot(Y_test,predict_y)"
   ]
  },
  {
   "cell_type": "code",
   "execution_count": 118,
   "metadata": {},
   "outputs": [
    {
     "data": {
      "image/png": "[encoded data removed]",
      "text/plain": [
       "<matplotlib.figure.Figure at 0x247837ae5f8>"
      ]
     },
     "metadata": {},
     "output_type": "display_data"
    }
   ],
   "source": [
    "# Plotting roc \n",
    "plot_roc_curve(Y_test,predict_y,Y_train,predict_y_train)"
   ]
  },
  {
   "cell_type": "markdown",
   "metadata": {},
   "source": [
    "### [5.1.4] Applying KNN brute force on TFIDF W2V"
   ]
  },
  {
   "cell_type": "code",
   "execution_count": 103,
   "metadata": {},
   "outputs": [],
   "source": [
    "Y = final['Score'] # Contains labels of data points\n",
    "X_train,X_test,Y_train,Y_test = train_test_split(cleaned_reviews,Y,test_size=0.3,random_state=42)"
   ]
  },
  {
   "cell_type": "code",
   "execution_count": 104,
   "metadata": {},
   "outputs": [],
   "source": [
    "# Vectorizing train dataset using tfidf\n",
    "model = TfidfVectorizer()\n",
    "model.fit_transform(X_train)\n",
    "tfidf_feat1 = model.get_feature_names()\n",
    "\n",
    "# This will map word with their tfidf only for train dataset\n",
    "dictionary1 = dict(zip(model.get_feature_names(), list(model.idf_)))"
   ]
  },
  {
   "cell_type": "code",
   "execution_count": 105,
   "metadata": {},
   "outputs": [],
   "source": [
    "# Vectorizing test dataset using tfidf\n",
    "model.transform(X_test)\n",
    "tfidf_feat2 = model.get_feature_names()\n",
    "\n",
    "# This will map word with their tfidf only for test dataset\n",
    "dictionary2 = dict(zip(model.get_feature_names(), list(model.idf_)))"
   ]
  },
  {
   "cell_type": "code",
   "execution_count": 106,
   "metadata": {},
   "outputs": [],
   "source": [
    "# Vectorizing train dataset\n",
    "\n",
    "# TF-IDF weighted Word2Vec\n",
    " # tfidf words/col-names\n",
    "# final_tf_idf is the sparse matrix with row= sentence, col=word and cell_val = tfidf\n",
    "\n",
    "train_tfidf_sent_vectors = []; # the tfidf-w2v for each sentence/review is stored in this list\n",
    "\n",
    "for sent in X_train: # for each review/sentence \n",
    "    sent_vec = np.zeros(50) # as word vectors are of zero length\n",
    "    weight_sum =0; # num of words with a valid vector in the sentence/review\n",
    "    for word in sent: # for each word in a review/sentence\n",
    "        if word in w2v_words and word in tfidf_feat1:\n",
    "            vec = w2v_model.wv[word]\n",
    "            #tf_idf = tf_idf_matrix[row, tfidf_feat.index(word)]\n",
    "            # to reduce the computation we are \n",
    "            # dictionary[word] = idf value of word in whole courpus\n",
    "            # sent.count(word) = tf values of word in this review\n",
    "            tf_idf = dictionary1[word]*(sent.count(word)/len(sent))\n",
    "            sent_vec += (vec * tf_idf)\n",
    "            weight_sum += 1\n",
    "    if weight_sum != 0:\n",
    "        sent_vec /= weight_sum\n",
    "    train_tfidf_sent_vectors.append(sent_vec)\n"
   ]
  },
  {
   "cell_type": "code",
   "execution_count": 107,
   "metadata": {},
   "outputs": [],
   "source": [
    "# TF-IDF weighted Word2Vec\n",
    "# Vectorizing test dataset. \n",
    "\n",
    "test_tfidf_sent_vectors = []; # the tfidf-w2v for each sentence/review is stored in this list\n",
    "for sent in X_test: # for each review/sentence \n",
    "    sent_vec = np.zeros(50) # as word vectors are of zero length\n",
    "    weight_sum =0; # num of words with a valid vector in the sentence/review\n",
    "    for word in sent: # for each word in a review/sentence\n",
    "        if word in w2v_words and word in tfidf_feat2:\n",
    "            vec = w2v_model.wv[word]\n",
    "            #tf_idf = tf_idf_matrix[row, tfidf_feat.index(word)]\n",
    "            # to reduce the computation we are \n",
    "            # dictionary[word] = idf value of word in whole courpus\n",
    "            # sent.count(word) = tf values of word in this review\n",
    "            tf_idf = dictionary2[word]*(sent.count(word)/len(sent))\n",
    "            sent_vec += (vec * tf_idf)\n",
    "            weight_sum +=1\n",
    "    if weight_sum != 0:\n",
    "        sent_vec /= weight_sum\n",
    "    test_tfidf_sent_vectors.append(sent_vec)"
   ]
  },
  {
   "cell_type": "code",
   "execution_count": 108,
   "metadata": {},
   "outputs": [
    {
     "name": "stderr",
     "output_type": "stream",
     "text": [
      "\n",
      "  0%|                                                                                           | 0/15 [00:00<?, ?it/s]\n",
      "  7%|█████▌                                                                             | 1/15 [00:24<05:39, 24.27s/it]\n",
      " 13%|███████████                                                                        | 2/15 [00:52<05:31, 25.53s/it]\n",
      " 20%|████████████████▌                                                                  | 3/15 [01:19<05:11, 25.99s/it]\n",
      " 27%|██████████████████████▏                                                            | 4/15 [01:46<04:48, 26.23s/it]\n",
      " 33%|███████████████████████████▋                                                       | 5/15 [02:14<04:26, 26.69s/it]\n",
      " 40%|█████████████████████████████████▏                                                 | 6/15 [02:40<03:57, 26.41s/it]\n",
      " 47%|██████████████████████████████████████▋                                            | 7/15 [03:05<03:27, 25.98s/it]\n",
      " 53%|████████████████████████████████████████████▎                                      | 8/15 [03:31<03:03, 26.15s/it]\n",
      " 60%|█████████████████████████████████████████████████▊                                 | 9/15 [03:57<02:36, 26.02s/it]\n",
      " 67%|██████████████████████████████████████████████████████▋                           | 10/15 [04:22<02:09, 25.89s/it]\n",
      " 73%|████████████████████████████████████████████████████████████▏                     | 11/15 [04:49<01:44, 26.22s/it]\n",
      " 80%|█████████████████████████████████████████████████████████████████▌                | 12/15 [05:15<01:18, 26.08s/it]\n",
      " 87%|███████████████████████████████████████████████████████████████████████           | 13/15 [05:42<00:52, 26.32s/it]\n",
      " 93%|████████████████████████████████████████████████████████████████████████████▌     | 14/15 [06:09<00:26, 26.56s/it]\n",
      "100%|██████████████████████████████████████████████████████████████████████████████████| 15/15 [06:35<00:00, 26.48s/it]\n",
      "\n",
      "  0%|                                                                                           | 0/15 [00:00<?, ?it/s]\n",
      "  7%|█████▌                                                                             | 1/15 [00:25<05:54, 25.32s/it]\n",
      " 13%|███████████                                                                        | 2/15 [00:50<05:28, 25.28s/it]\n",
      " 20%|████████████████▌                                                                  | 3/15 [01:15<05:03, 25.29s/it]\n",
      " 27%|██████████████████████▏                                                            | 4/15 [01:40<04:34, 25.00s/it]\n",
      " 33%|███████████████████████████▋                                                       | 5/15 [02:04<04:09, 24.91s/it]\n",
      " 40%|█████████████████████████████████▏                                                 | 6/15 [02:27<03:39, 24.36s/it]\n",
      " 47%|██████████████████████████████████████▋                                            | 7/15 [02:51<03:11, 23.99s/it]\n",
      " 53%|████████████████████████████████████████████▎                                      | 8/15 [03:12<02:43, 23.31s/it]\n",
      " 60%|█████████████████████████████████████████████████▊                                 | 9/15 [03:35<02:18, 23.07s/it]\n",
      " 67%|██████████████████████████████████████████████████████▋                           | 10/15 [04:05<02:05, 25.19s/it]\n",
      " 73%|████████████████████████████████████████████████████████████▏                     | 11/15 [04:28<01:38, 24.69s/it]\n",
      " 80%|█████████████████████████████████████████████████████████████████▌                | 12/15 [04:51<01:12, 24.14s/it]\n",
      " 87%|███████████████████████████████████████████████████████████████████████           | 13/15 [05:12<00:46, 23.20s/it]\n",
      " 93%|████████████████████████████████████████████████████████████████████████████▌     | 14/15 [05:34<00:22, 22.71s/it]\n",
      "100%|██████████████████████████████████████████████████████████████████████████████████| 15/15 [05:58<00:00, 23.11s/it]\n",
      "\n",
      "  0%|                                                                                           | 0/15 [00:00<?, ?it/s]\n",
      "  7%|█████▌                                                                             | 1/15 [00:24<05:38, 24.16s/it]\n",
      " 13%|███████████                                                                        | 2/15 [00:48<05:13, 24.12s/it]\n",
      " 20%|████████████████▌                                                                  | 3/15 [01:12<04:49, 24.15s/it]\n",
      " 27%|██████████████████████▏                                                            | 4/15 [01:39<04:35, 25.05s/it]\n",
      " 33%|███████████████████████████▋                                                       | 5/15 [02:15<04:42, 28.21s/it]\n",
      " 40%|█████████████████████████████████▏                                                 | 6/15 [02:41<04:08, 27.65s/it]\n",
      " 47%|██████████████████████████████████████▋                                            | 7/15 [03:05<03:32, 26.55s/it]\n",
      " 53%|████████████████████████████████████████████▎                                      | 8/15 [03:30<03:02, 26.00s/it]\n",
      " 60%|█████████████████████████████████████████████████▊                                 | 9/15 [03:54<02:32, 25.47s/it]\n",
      " 67%|██████████████████████████████████████████████████████▋                           | 10/15 [04:18<02:04, 25.00s/it]\n",
      " 73%|████████████████████████████████████████████████████████████▏                     | 11/15 [04:43<01:40, 25.19s/it]\n",
      " 80%|█████████████████████████████████████████████████████████████████▌                | 12/15 [05:07<01:14, 24.84s/it]\n",
      " 87%|███████████████████████████████████████████████████████████████████████           | 13/15 [05:31<00:49, 24.57s/it]\n",
      " 93%|████████████████████████████████████████████████████████████████████████████▌     | 14/15 [05:57<00:24, 24.78s/it]\n",
      "100%|██████████████████████████████████████████████████████████████████████████████████| 15/15 [06:24<00:00, 25.64s/it]\n"
     ]
    }
   ],
   "source": [
    "# Calculating training error .\n",
    "# Because of large amount of data. we are processing data into three batches here.\n",
    "# After processing all the results of these batches are merged into one .\n",
    "\n",
    "train_auc_list1 = []   # This contains area under curve value of first batch corresponding for each k\n",
    "train_auc_list2 = []   # for second batch \n",
    "train_auc_list3 = []   # for third batch\n",
    "\n",
    "# Testing whole training data at once takes a lot of memory which takes a lot of time .\n",
    "# There fore we are dividing training data into 3 parts and then we will calculate AUC\n",
    "    \n",
    "x_train_1 = train_tfidf_sent_vectors[0:20000][:] # Row 0 to 19999 and all columns\n",
    "x_train_2 = train_tfidf_sent_vectors[20000:40000][:]\n",
    "x_train_3 = train_tfidf_sent_vectors[40000:61441][:]\n",
    "\n",
    "y_train_1 = Y_train[0:20000][:] # Row 0 to 19999 and all columns\n",
    "y_train_2 = Y_train[20000:40000][:]\n",
    "y_train_3 = Y_train[40000:61441][:]\n",
    "\n",
    "# Calculating training error for first batch\n",
    "for k in tqdm(range(1,30,2)):\n",
    "    clf = KNeighborsClassifier(n_neighbors=k,algorithm=\"kd_tree\",leaf_size=30,n_jobs=3)\n",
    "    clf.fit(x_train_1,y_train_1)\n",
    "\n",
    "    pre_probab = clf.predict_proba(x_train_1)[:,1] # Returns probability of positive class\n",
    "    \n",
    "    auc = roc_auc_score(y_train_1,pre_probab)\n",
    "    train_auc_list1.append(auc)\n",
    "\n",
    "# Calculating training error for second batch\n",
    "for k in tqdm(range(1,30,2)):\n",
    "    clf = KNeighborsClassifier(n_neighbors=k,algorithm=\"kd_tree\",leaf_size=30,n_jobs=3)\n",
    "    clf.fit(x_train_2,y_train_2)\n",
    "\n",
    "    pre_probab = clf.predict_proba(x_train_2)[:,1]\n",
    "    \n",
    "    auc = roc_auc_score(y_train_2,pre_probab)\n",
    "    train_auc_list2.append(auc)\n",
    "    \n",
    "\n",
    "# Calculating training error for third batch\n",
    "for k in tqdm(range(1,30,2)):\n",
    "    clf = KNeighborsClassifier(n_neighbors=k,algorithm=\"kd_tree\",leaf_size=30,n_jobs=3)\n",
    "    clf.fit(x_train_3,y_train_3)\n",
    "\n",
    "    pre_probab = clf.predict_proba(x_train_3)[:,1]\n",
    "    \n",
    "    auc = roc_auc_score(y_train_3,pre_probab)\n",
    "    train_auc_list3.append(auc)\n",
    "    \n",
    "# Combining results together.\n",
    "train_auc_list = [(x+y+z)/3 for x,y,z in zip(train_auc_list1,train_auc_list2,train_auc_list3)]"
   ]
  },
  {
   "cell_type": "code",
   "execution_count": 109,
   "metadata": {},
   "outputs": [
    {
     "name": "stderr",
     "output_type": "stream",
     "text": [
      "\n",
      "  0%|                                                                                           | 0/15 [00:00<?, ?it/s]\n",
      "  7%|█████▍                                                                            | 1/15 [02:43<38:14, 163.92s/it]\n",
      " 13%|██████████▉                                                                       | 2/15 [05:13<34:33, 159.48s/it]\n",
      " 20%|████████████████▍                                                                 | 3/15 [07:57<32:11, 160.93s/it]\n",
      " 27%|█████████████████████▊                                                            | 4/15 [11:04<30:56, 168.76s/it]\n",
      " 33%|███████████████████████████▎                                                      | 5/15 [14:04<28:42, 172.27s/it]\n",
      " 40%|████████████████████████████████▊                                                 | 6/15 [16:44<25:15, 168.38s/it]\n",
      " 47%|██████████████████████████████████████▎                                           | 7/15 [19:38<22:41, 170.18s/it]\n",
      " 53%|███████████████████████████████████████████▋                                      | 8/15 [22:56<20:49, 178.50s/it]\n",
      " 60%|█████████████████████████████████████████████████▏                                | 9/15 [26:18<18:32, 185.44s/it]\n",
      " 67%|██████████████████████████████████████████████████████                           | 10/15 [29:36<15:47, 189.45s/it]\n",
      " 73%|███████████████████████████████████████████████████████████▍                     | 11/15 [32:27<12:15, 183.88s/it]\n",
      " 80%|████████████████████████████████████████████████████████████████▊                | 12/15 [35:19<09:00, 180.10s/it]\n",
      " 87%|██████████████████████████████████████████████████████████████████████▏          | 13/15 [38:11<05:55, 177.94s/it]\n",
      " 93%|███████████████████████████████████████████████████████████████████████████▌     | 14/15 [41:06<02:57, 177.06s/it]\n",
      "100%|█████████████████████████████████████████████████████████████████████████████████| 15/15 [44:01<00:00, 176.22s/it]\n"
     ]
    }
   ],
   "source": [
    "# 10 fold cross validation using time series splitting\n",
    "\n",
    "auc_list = []\n",
    "\n",
    "for k in tqdm(range(1,30,2)):\n",
    "    # KNN Classifier\n",
    "    clf = KNeighborsClassifier(n_neighbors=k,algorithm='kd_tree',leaf_size=30,n_jobs=3)\n",
    "    i=0\n",
    "    auc=0.0\n",
    "    for train_index,test_index in tscv.split(train_tfidf_sent_vectors):\n",
    "        x_train = train_sent_vectors[0:train_index[-1]][:] # row 0 to train_index(excluding)\n",
    "        y_train = Y_train[0:train_index[-1]][:] # row 0 to train_index(excluding)\n",
    "        x_test = train_sent_vectors[train_index[-1]:test_index[-1]][:] # row from train_index to test_index will be selected\n",
    "        y_test = Y_train[train_index[-1]:test_index[-1]][:] # row from train_index to test_index(excluding) will be selected\n",
    "    \n",
    "        clf.fit(x_train,y_train)\n",
    "    \n",
    "        predict_probab = clf.predict_proba(x_test)[:,1] # Returns probability of for positive class only.\n",
    "        i += 1\n",
    "        auc += roc_auc_score(y_test,predict_probab)\n",
    "    \n",
    "    auc_list.append(auc/i) # Averaging auc for all 10 folds ."
   ]
  },
  {
   "cell_type": "code",
   "execution_count": 110,
   "metadata": {},
   "outputs": [
    {
     "data": {
      "image/png": "[encoded data removed]",
      "text/plain": [
       "<matplotlib.figure.Figure at 0x1d7b0558b38>"
      ]
     },
     "metadata": {},
     "output_type": "display_data"
    }
   ],
   "source": [
    "# Plotting graph of auc and parameter for training and cross validation error\n",
    "plot_knn_vs_auc(train_auc_list,auc_list)"
   ]
  },
  {
   "cell_type": "code",
   "execution_count": 111,
   "metadata": {},
   "outputs": [
    {
     "name": "stdout",
     "output_type": "stream",
     "text": [
      "Final AUC is ::0.50\n"
     ]
    }
   ],
   "source": [
    "30# Training final model on best auc and taking k = 10\n",
    "\n",
    "# Training one model with all the data hangs the PC . \n",
    "# Therefore we will divide data into 3 parts and then train three seperate models.\n",
    "x_train_1 = train_tfidf_sent_vectors[0:20000][:] # Row 0 to 19999 and all columns\n",
    "x_train_2 = train_tfidf_sent_vectors[20000:40000][:]\n",
    "x_train_3 = train_tfidf_sent_vectors[40000:61441][:]\n",
    "\n",
    "y_train_1 = Y_train[0:20000][:] # Row 0 to 19999 and all columns\n",
    "y_train_2 = Y_train[20000:40000][:]\n",
    "y_train_3 = Y_train[40000:61441][:]\n",
    "\n",
    "\n",
    "final_clf1 = KNeighborsClassifier(n_neighbors=30,algorithm='kd_tree',leaf_size=40,n_jobs=3)\n",
    "final_clf1.fit(x_train_1,y_train_1)\n",
    "predict_probab_1 = final_clf1.predict_proba(test_tfidf_sent_vectors)[:,1] # This returns only probability of +ve class \n",
    "predict_y_train1 = list(final_clf1.predict(x_train_1))\n",
    "\n",
    "final_clf2 = KNeighborsClassifier(n_neighbors=30,algorithm='kd_tree',leaf_size=40,n_jobs=3)\n",
    "final_clf2.fit(x_train_2,y_train_2)\n",
    "predict_probab_2 = final_clf2.predict_proba(test_tfidf_sent_vectors)[:,1] # This returns only probability of +ve class \n",
    "predict_y_train2 = list(final_clf1.predict(x_train_2))\n",
    "\n",
    "final_clf3 = KNeighborsClassifier(n_neighbors=30,algorithm='kd_tree',leaf_size=40,n_jobs=3)\n",
    "final_clf3.fit(x_train_3,y_train_3)\n",
    "predict_probab_3 = final_clf3.predict_proba(test_tfidf_sent_vectors)[:,1] # This returns only probability of +ve class \n",
    "predict_y_train3 = final_clf1.predict(x_train_3)\n",
    "\n",
    "# Now merging all the three probability scores into one \n",
    "\n",
    "predict_probab = [(x+y+z)/3 for x,y,z in zip(predict_probab_1,predict_probab_2,predict_probab_3)]\n",
    "predict_y = [1 if(x+y+z>=2) else 0 for x,y,z in zip(predict_probab_1,predict_probab_2,predict_probab_3) ]\n",
    "\n",
    "# Combining results for train dataset\n",
    "predict_y_train = np.concatenate((predict_y_train1,predict_y_train2),axis=None)\n",
    "predict_y_train = np.concatenate((predict_y_train,predict_y_train3),axis=None)\n",
    "\n",
    "auc = roc_auc_score(Y_test,predict_probab)\n",
    "print(\"Final AUC is ::{:.2f}\".format(auc))"
   ]
  },
  {
   "cell_type": "code",
   "execution_count": 112,
   "metadata": {},
   "outputs": [
    {
     "name": "stdout",
     "output_type": "stream",
     "text": [
      "Confusion matrix\n"
     ]
    },
    {
     "data": {
      "image/png": "[encoded data removed]",
      "text/plain": [
       "<matplotlib.figure.Figure at 0x1d7aac9dbe0>"
      ]
     },
     "metadata": {},
     "output_type": "display_data"
    }
   ],
   "source": [
    "# Plotting confusion matrix\n",
    "confusion_matrix_plot(Y_test,predict_y)"
   ]
  },
  {
   "cell_type": "code",
   "execution_count": 113,
   "metadata": {},
   "outputs": [
    {
     "data": {
      "image/png": "[encoded data removed]",
      "text/plain": [
       "<matplotlib.figure.Figure at 0x1d7aed779b0>"
      ]
     },
     "metadata": {},
     "output_type": "display_data"
    }
   ],
   "source": [
    "# Plotting roc curve\n",
    "plot_roc_curve(Y_test,predict_y,Y_train,predict_y_train)"
   ]
  },
  {
   "cell_type": "markdown",
   "metadata": {},
   "source": [
    "## [5.2] Applying KNN kd-tree"
   ]
  },
  {
   "cell_type": "markdown",
   "metadata": {},
   "source": [
    "### [5.2.1] Applying KNN kd-tree on BOW,<font color='red'> SET 5</font>"
   ]
  },
  {
   "cell_type": "code",
   "execution_count": 61,
   "metadata": {},
   "outputs": [
    {
     "name": "stdout",
     "output_type": "stream",
     "text": [
      "61441 26332\n"
     ]
    }
   ],
   "source": [
    "# Kd tree works slow for high dimensional data.\n",
    "# Therefore taking top 5000 features\n",
    "from sklearn.cross_validation import train_test_split\n",
    "count_vect = CountVectorizer(max_features=5000)\n",
    "\n",
    "X = cleaned_reviews\n",
    "Y = final[\"Score\"]\n",
    "# Splitting data into train and test dataset\n",
    "X_train,X_test,Y_train,Y_test = train_test_split(X,Y,test_size=0.3,random_state=42)\n",
    "print(len(X_train),len(X_test))"
   ]
  },
  {
   "cell_type": "code",
   "execution_count": 62,
   "metadata": {},
   "outputs": [
    {
     "name": "stdout",
     "output_type": "stream",
     "text": [
      "(61441, 5000)\n",
      "(26332, 5000)\n"
     ]
    }
   ],
   "source": [
    "# Vectorizing train and test dataset seperately\n",
    "X_train = count_vect.fit_transform(X_train)\n",
    "print(X_train.shape)\n",
    "\n",
    "X_test = count_vect.transform(X_test)\n",
    "print(X_test.shape)"
   ]
  },
  {
   "cell_type": "code",
   "execution_count": 63,
   "metadata": {},
   "outputs": [
    {
     "name": "stdout",
     "output_type": "stream",
     "text": [
      "(61441, 200) (26332, 200)\n"
     ]
    }
   ],
   "source": [
    "# Since kd Tree dont take sparse matrix .\n",
    "# Therefore we are converting sparse to dense matrxi using TruncatedSVD\n",
    "from sklearn.decomposition import TruncatedSVD\n",
    "\n",
    "# Initializing TruncatedSVD\n",
    "# Too many features takes a lot of time . Therefore taking 500 features only\n",
    "svd = TruncatedSVD(n_components=200,algorithm='randomized',n_iter=50,random_state=42)\n",
    "X_train = svd.fit_transform(X_train)\n",
    "X_test = svd.fit_transform(X_test)\n",
    "print(X_train.shape,X_test.shape)"
   ]
  },
  {
   "cell_type": "code",
   "execution_count": 66,
   "metadata": {},
   "outputs": [
    {
     "name": "stderr",
     "output_type": "stream",
     "text": [
      "100%|███████████████████████████████████████████████████████████████████████████████| 15/15 [2:16:40<00:00, 595.11s/it]\n",
      "100%|███████████████████████████████████████████████████████████████████████████████| 15/15 [1:52:25<00:00, 427.10s/it]\n",
      "100%|███████████████████████████████████████████████████████████████████████████████| 15/15 [1:02:25<00:00, 273.88s/it]\n"
     ]
    }
   ],
   "source": [
    "# Calculating training error .\n",
    "# Because of large amount of data. we are processing data into three batches here.\n",
    "# After processing all the results of these batches are merged into one .\n",
    "\n",
    "param_list = [1,3,5,7,9,11,13,15,17,19,21,23,25,27,29]\n",
    "train_auc_list1 = []   # This contains area under curve value of first batch corresponding for each k\n",
    "train_auc_list2 = []   # for stqdm(econd batch \n",
    "train_auc_list3 = []   # for third batch\n",
    "\n",
    "# Testing whole training data at once takes a lot of memory which takes a lot of time .\n",
    "# There fore we are dividing training data into 3 parts and then we will calculate AUC\n",
    "    \n",
    "x_train_1 = X_train[0:20000][:] # Row 0 to 19999 and all columns\n",
    "x_train_2 = X_train[20000:40000][:]\n",
    "x_train_3 = X_train[40000:61441][:]\n",
    "\n",
    "y_train_1 = Y_train[0:20000][:] # Row 0 to 19999 and all columns\n",
    "y_train_2 = Y_train[20000:40000][:]\n",
    "y_train_3 = Y_train[40000:61441][:]\n",
    "\n",
    "# Calculating training error for first batch\n",
    "for k in tqdm(range(1,30,2)):\n",
    "    clf = KNeighborsClassifier(n_neighbors=k,algorithm=\"kd_tree\",leaf_size=40)\n",
    "    clf.fit(x_train_1,y_train_1)\n",
    "\n",
    "    pre_probab = clf.predict_proba(x_train_1)[:,1] # Returns probability of positive class\n",
    "    \n",
    "    auc = roc_auc_score(y_train_1,pre_probab)\n",
    "    train_auc_list1.append(auc)\n",
    "\n",
    "# Calculating training error for second batch\n",
    "for k in tqdm(range(1,30,2)):\n",
    "    clf = KNeighborsClassifier(n_neighbors=k,algorithm=\"kd_tree\",leaf_size=40)\n",
    "    clf.fit(x_train_2,y_train_2)\n",
    "\n",
    "    pre_probab = clf.predict_proba(x_train_2)[:,1]\n",
    "    \n",
    "    auc = roc_auc_score(y_train_2,pre_probab)\n",
    "    train_auc_list2.append(auc)\n",
    "    \n",
    "\n",
    "# Calculating training error for third batch\n",
    "for k in tqdm(range(1,30,2)):\n",
    "    clf = KNeighborsClassifier(n_neighbors=k,algorithm=\"kd_tree\",leaf_size=40)\n",
    "    clf.fit(x_train_3,y_train_3)\n",
    "\n",
    "    pre_probab = clf.predict_proba(x_train_3)[:,1]\n",
    "    \n",
    "    auc = roc_auc_score(y_train_3,pre_probab)\n",
    "    train_auc_list3.append(auc)\n"
   ]
  },
  {
   "cell_type": "code",
   "execution_count": 67,
   "metadata": {},
   "outputs": [],
   "source": [
    "train_auc_list = [(x+y+z)/3 for x,y,z in zip(train_auc_list1,train_auc_list2,train_auc_list3)]"
   ]
  },
  {
   "cell_type": "code",
   "execution_count": 68,
   "metadata": {},
   "outputs": [],
   "source": [
    "# Performing 10 fold cross validation on time split data\n",
    "\n",
    "tscv = TimeSeriesSplit(n_splits=10)\n",
    "auc_list1 = []\n",
    "\n",
    "for k in range(1,30,2):\n",
    "    clf1 = KNeighborsClassifier(n_neighbors=k,algorithm='kd_tree',leaf_size=40)\n",
    "    auc1 = 0.0\n",
    "    i1=0\n",
    "    for train_index,test_index in tscv.split(X_train):\n",
    "        x_train = X_train[0:train_index[-1]][:] # row 0 to train_index(excluding)\n",
    "        y_train = Y_train[0:train_index[-1]][:] # row 0 to train_index(excluding)\n",
    "        x_test = X_train[train_index[-1]:test_index[-1]][:] # row from train_index to test_index will be selected\n",
    "        y_test = Y_train[train_index[-1]:test_index[-1]][:] # row from train_index to test_index(excluding) will be selected\n",
    "    \n",
    "        clf1.fit(x_train,y_train)\n",
    "    \n",
    "        predict_probab1 = clf1.predict_proba(x_test)[:,1]\n",
    "        i1 += 1\n",
    "        auc1 += roc_auc_score(y_test,predict_probab1)\n",
    "    \n",
    "    auc_list1.append(auc1/i1)\n",
    "    "
   ]
  },
  {
   "cell_type": "code",
   "execution_count": 70,
   "metadata": {},
   "outputs": [
    {
     "data": {
      "image/png": "[encoded data removed]",
      "text/plain": [
       "<matplotlib.figure.Figure at 0x1d7a9189b38>"
      ]
     },
     "metadata": {},
     "output_type": "display_data"
    }
   ],
   "source": [
    "# Plotting graph of auc and parameter for training and cross validation error\n",
    "plot_knn_vs_auc(train_auc_list,auc_list1)"
   ]
  },
  {
   "cell_type": "code",
   "execution_count": 75,
   "metadata": {},
   "outputs": [
    {
     "name": "stdout",
     "output_type": "stream",
     "text": [
      "Final AUC is ::0.63\n"
     ]
    }
   ],
   "source": [
    "# Training final model on best auc and taking k = 25\n",
    "\n",
    "final_clf = KNeighborsClassifier(n_neighbors=25,algorithm='kd_tree',leaf_size=40)\n",
    "final_clf.fit(X_train,Y_train)\n",
    "predict_probab = final_clf.predict_proba(X_test)[:,1] # This returns only probability of +ve class \n",
    "predict_y = final_clf.predict(X_test)\n",
    "\n",
    "auc = roc_auc_score(Y_test,predict_probab)\n",
    "print(\"Final AUC is ::{:.2f}\".format(auc))"
   ]
  },
  {
   "cell_type": "code",
   "execution_count": 72,
   "metadata": {},
   "outputs": [],
   "source": [
    "predict_y_train = final_clf.predict(X_train)"
   ]
  },
  {
   "cell_type": "code",
   "execution_count": 76,
   "metadata": {},
   "outputs": [
    {
     "name": "stdout",
     "output_type": "stream",
     "text": [
      "Confusion matrix\n"
     ]
    },
    {
     "data": {
      "image/png": "[encoded data removed]",
      "text/plain": [
       "<matplotlib.figure.Figure at 0x1d7a88a6f28>"
      ]
     },
     "metadata": {},
     "output_type": "display_data"
    }
   ],
   "source": [
    "# Plotting confusion matrix\n",
    "confusion_matrix_plot(Y_test,predict_y)"
   ]
  },
  {
   "cell_type": "code",
   "execution_count": 77,
   "metadata": {},
   "outputs": [
    {
     "data": {
      "image/png": "[encoded data removed]",
      "text/plain": [
       "<matplotlib.figure.Figure at 0x1d79d261b38>"
      ]
     },
     "metadata": {},
     "output_type": "display_data"
    }
   ],
   "source": [
    "# Plotting roc curve\n",
    "plot_roc_curve(Y_test,predict_y,Y_train,predict_y_train)"
   ]
  },
  {
   "cell_type": "markdown",
   "metadata": {},
   "source": [
    "### [5.2.2] Applying KNN kd-tree on TFIDF,<font color='red'> SET 6</font>"
   ]
  },
  {
   "cell_type": "code",
   "execution_count": 78,
   "metadata": {},
   "outputs": [],
   "source": [
    "# In this section Tfidf will be used for vectorization\n",
    "# Splitting datasets into train and test datasets\n",
    "\n",
    "X = final['Cleaned_review']\n",
    "Y = final['Score']\n",
    "tf_idf_vect = TfidfVectorizer(max_features=300)\n",
    "\n",
    "X_train,X_test,Y_train,Y_test = train_test_split(X,Y,test_size=0.3,random_state=42)\n",
    "\n",
    "# Now we will vectorize train and test datasets separately using Tfidf \n",
    "# Use fit_transform to vectorize train dataset and transform to vectorize test dataset\n",
    "X_train = tf_idf_vect.fit_transform(X_train)\n",
    "X_test = tf_idf_vect.transform(X_test)"
   ]
  },
  {
   "cell_type": "code",
   "execution_count": 79,
   "metadata": {},
   "outputs": [
    {
     "name": "stdout",
     "output_type": "stream",
     "text": [
      "(61441, 200) (26332, 200)\n"
     ]
    }
   ],
   "source": [
    "from sklearn.decomposition import TruncatedSVD\n",
    "svd = TruncatedSVD(n_components=200,algorithm='randomized',n_iter=50,random_state=42)\n",
    "X_train = svd.fit_transform(X_train)\n",
    "X_test = svd.fit_transform(X_test)\n",
    "print(X_train.shape,X_test.shape)"
   ]
  },
  {
   "cell_type": "code",
   "execution_count": 80,
   "metadata": {},
   "outputs": [
    {
     "name": "stderr",
     "output_type": "stream",
     "text": [
      "100%|██████████████████████████████████████████████████████████████████████████████████| 15/15 [19:36<00:00, 84.13s/it]\n",
      "100%|██████████████████████████████████████████████████████████████████████████████████| 15/15 [20:11<00:00, 90.45s/it]\n",
      "100%|█████████████████████████████████████████████████████████████████████████████████| 15/15 [27:46<00:00, 117.68s/it]\n"
     ]
    }
   ],
   "source": [
    "param_list = [1,3,5,7,9,11,13,15,17,19,21,23,25,27,29]\n",
    "train_auc_list1 = []   # This contains area under curve value of first batch corresponding for each k\n",
    "train_auc_list2 = []   # for second batch \n",
    "train_auc_list3 = []   # for third batch\n",
    "\n",
    "# Testing whole training data at once takes a lot of memory which takes a lot of time .\n",
    "# There fore we are dividing training data into 3 parts and then we will calculate AUC\n",
    "    \n",
    "x_train_1 = X_train[0:20000][:] # Row 0 to 19999 and all columns\n",
    "x_train_2 = X_train[20000:40000][:]\n",
    "x_train_3 = X_train[40000:61441][:]\n",
    "\n",
    "y_train_1 = Y_train[0:20000][:] # Row 0 to 19999 and all columns\n",
    "y_train_2 = Y_train[20000:40000][:]\n",
    "y_train_3 = Y_train[40000:61441][:]\n",
    "\n",
    "# Calculating training error for first batch\n",
    "for k in tqdm(range(1,30,2)):\n",
    "    clf = KNeighborsClassifier(n_neighbors=k,algorithm=\"kd_tree\",leaf_size=40,n_jobs=3)\n",
    "    clf.fit(x_train_1,y_train_1)\n",
    "\n",
    "    pre_probab = clf.predict_proba(x_train_1)[:,1] # Returns probability of positive class\n",
    "    \n",
    "    auc = roc_auc_score(y_train_1,pre_probab)\n",
    "    train_auc_list1.append(auc)\n",
    "\n",
    "# Calculating training error for second batch\n",
    "for k in tqdm(range(1,30,2)):\n",
    "    clf = KNeighborsClassifier(n_neighbors=k,algorithm=\"kd_tree\",leaf_size=40,n_jobs=3)\n",
    "    clf.fit(x_train_2,y_train_2)\n",
    "\n",
    "    pre_probab = clf.predict_proba(x_train_2)[:,1]\n",
    "    \n",
    "    auc = roc_auc_score(y_train_2,pre_probab)\n",
    "    train_auc_list2.append(auc)\n",
    "    \n",
    "\n",
    "# Calculating training error for third batch\n",
    "for k in tqdm(range(1,30,2)):\n",
    "    clf = KNeighborsClassifier(n_neighbors=k,algorithm=\"kd_tree\",leaf_size=40,n_jobs=3)\n",
    "    clf.fit(x_train_3,y_train_3)\n",
    "\n",
    "    pre_probab = clf.predict_proba(x_train_3)[:,1]\n",
    "    \n",
    "    auc = roc_auc_score(y_train_3,pre_probab)\n",
    "    train_auc_list3.append(auc)"
   ]
  },
  {
   "cell_type": "code",
   "execution_count": 81,
   "metadata": {},
   "outputs": [],
   "source": [
    "train_auc_list = [(x+y+z)/3 for x,y,z in zip(train_auc_list1,train_auc_list2,train_auc_list3)]"
   ]
  },
  {
   "cell_type": "code",
   "execution_count": 84,
   "metadata": {},
   "outputs": [
    {
     "name": "stderr",
     "output_type": "stream",
     "text": [
      "\n",
      "  0%|                                                                                           | 0/15 [00:00<?, ?it/s]\n",
      "  7%|█████▎                                                                          | 1/15 [07:01<1:38:24, 421.73s/it]\n",
      " 13%|██████████▋                                                                     | 2/15 [15:38<1:37:31, 450.12s/it]\n",
      " 20%|████████████████                                                                | 3/15 [23:22<1:30:51, 454.33s/it]\n",
      " 27%|█████████████████████▎                                                          | 4/15 [30:44<1:22:38, 450.80s/it]\n",
      " 33%|██████████████████████████▋                                                     | 5/15 [38:05<1:14:37, 447.76s/it]\n",
      " 40%|████████████████████████████████                                                | 6/15 [45:23<1:06:43, 444.88s/it]\n",
      " 47%|██████████████████████████████████████▎                                           | 7/15 [52:40<59:00, 442.60s/it]\n",
      " 53%|███████████████████████████████████████████▋                                      | 8/15 [59:58<51:27, 441.07s/it]\n",
      " 60%|████████████████████████████████████████████████                                | 9/15 [1:07:20<44:08, 441.48s/it]\n",
      " 67%|████████████████████████████████████████████████████▋                          | 10/15 [1:14:42<36:48, 441.66s/it]\n",
      " 73%|█████████████████████████████████████████████████████████▉                     | 11/15 [1:22:05<29:27, 442.00s/it]\n",
      " 80%|███████████████████████████████████████████████████████████████▏               | 12/15 [1:29:51<22:27, 449.24s/it]\n",
      " 87%|████████████████████████████████████████████████████████████████████▍          | 13/15 [1:37:14<14:54, 447.18s/it]\n",
      " 93%|█████████████████████████████████████████████████████████████████████████▋     | 14/15 [1:45:34<07:43, 463.07s/it]\n",
      "100%|███████████████████████████████████████████████████████████████████████████████| 15/15 [1:52:53<00:00, 455.96s/it]\n"
     ]
    }
   ],
   "source": [
    "# Performing 10 fold cross validation on time split data\n",
    "\n",
    "tscv = TimeSeriesSplit(n_splits=10)\n",
    "auc_list1 = []\n",
    "\n",
    "for k in tqdm(range(1,30,2)):\n",
    "    clf1 = KNeighborsClassifier(n_neighbors=k,algorithm='kd_tree',leaf_size=40,n_jobs=3)\n",
    "    auc1 = 0.0\n",
    "    i1=0\n",
    "    for train_index,test_index in tscv.split(X_train):\n",
    "        x_train = X_train[0:train_index[-1]][:] # row 0 to train_index(excluding)\n",
    "        y_train = Y_train[0:train_index[-1]][:] # row 0 to train_index(excluding)\n",
    "        x_test = X_train[train_index[-1]:test_index[-1]][:] # row from train_index to test_index will be selected\n",
    "        y_test = Y_train[train_index[-1]:test_index[-1]][:] # row from train_index to test_index(excluding) will be selected\n",
    "    \n",
    "        clf1.fit(x_train,y_train)\n",
    "    \n",
    "        predict_probab1 = clf1.predict_proba(x_test)[:,1]\n",
    "        i1 += 1\n",
    "        auc1 += roc_auc_score(y_test,predict_probab1)\n",
    "    \n",
    "    auc_list1.append(auc1/i1)\n",
    "    \n",
    "        "
   ]
  },
  {
   "cell_type": "code",
   "execution_count": 85,
   "metadata": {
    "scrolled": true
   },
   "outputs": [
    {
     "data": {
      "image/png": "[encoded data removed]",
      "text/plain": [
       "<matplotlib.figure.Figure at 0x1d7aa8aa2b0>"
      ]
     },
     "metadata": {},
     "output_type": "display_data"
    }
   ],
   "source": [
    "# Plotting graph of auc and parameter for training and cross validation error\n",
    "plot_knn_vs_auc(train_auc_list,auc_list1)"
   ]
  },
  {
   "cell_type": "code",
   "execution_count": 86,
   "metadata": {},
   "outputs": [
    {
     "name": "stdout",
     "output_type": "stream",
     "text": [
      "Final AUC is 0.57\n"
     ]
    }
   ],
   "source": [
    "# Training final model on best auc and taking k = 11\n",
    "\n",
    "final_clf = KNeighborsClassifier(n_neighbors=24,algorithm='kd_tree',leaf_size=30,n_jobs=3)\n",
    "\n",
    "final_clf.fit(X_train,Y_train)\n",
    "\n",
    "predict_probab = final_clf.predict_proba(X_test)[:,1] # This returns only probability of +ve class \n",
    "predict_y = final_clf.predict(X_test)\n",
    "auc = roc_auc_score(Y_test,predict_probab)\n",
    "print(\"Final AUC is {:.2f}\".format(auc))\n"
   ]
  },
  {
   "cell_type": "code",
   "execution_count": 89,
   "metadata": {},
   "outputs": [],
   "source": [
    "predict_y_train = final_clf.predict(X_train)"
   ]
  },
  {
   "cell_type": "code",
   "execution_count": 87,
   "metadata": {},
   "outputs": [
    {
     "name": "stdout",
     "output_type": "stream",
     "text": [
      "Confusion matrix\n"
     ]
    },
    {
     "data": {
      "image/png": "[encoded data removed]",
      "text/plain": [
       "<matplotlib.figure.Figure at 0x1d7a914f1d0>"
      ]
     },
     "metadata": {},
     "output_type": "display_data"
    }
   ],
   "source": [
    "# Plotting confusion matrix\n",
    "confusion_matrix_plot(Y_test,predict_y)"
   ]
  },
  {
   "cell_type": "code",
   "execution_count": 90,
   "metadata": {},
   "outputs": [
    {
     "data": {
      "image/png": "[encoded data removed]",
      "text/plain": [
       "<matplotlib.figure.Figure at 0x1d7a91e77f0>"
      ]
     },
     "metadata": {},
     "output_type": "display_data"
    }
   ],
   "source": [
    "# Plotting roc curve\n",
    "plot_roc_curve(Y_test,predict_y,Y_train,predict_y_train)"
   ]
  },
  {
   "cell_type": "markdown",
   "metadata": {},
   "source": [
    "### [5.2.3] Applying KNN kd-tree on AVG W2V,<font color='red'> SET 3</font>"
   ]
  },
  {
   "cell_type": "code",
   "execution_count": 91,
   "metadata": {},
   "outputs": [],
   "source": [
    "# Splitting data into train and test.\n",
    "Y = final['Score']\n",
    "X_train,X_test,Y_train,Y_test = train_test_split(list_of_sentence,Y,test_size=0.3,random_state=42)"
   ]
  },
  {
   "cell_type": "code",
   "execution_count": 92,
   "metadata": {},
   "outputs": [
    {
     "name": "stdout",
     "output_type": "stream",
     "text": [
      "61441\n",
      "50\n"
     ]
    }
   ],
   "source": [
    "# Now we will vectorize train dataset usin avg_w2v\n",
    "train_sent_vectors = []; # the avg-w2v for each sentence/review is stored in this list\n",
    "for sent in X_train: # for each review/sentence\n",
    "    sent_vec = np.zeros(50) # as word vectors are of zero length 50, you might need to change this to 300 if you use google's w2v\n",
    "    cnt_words =0; # num of words with a valid vector in the sentence/review\n",
    "    for word in sent: # for each word in a review/sentence\n",
    "        if word in w2v_words:\n",
    "            vec = w2v_model.wv[word]\n",
    "            sent_vec += vec\n",
    "            cnt_words += 1\n",
    "    if cnt_words != 0:\n",
    "        sent_vec /= cnt_words\n",
    "    train_sent_vectors.append(sent_vec)\n",
    "print(len(train_sent_vectors))\n",
    "print(len(train_sent_vectors[0]))"
   ]
  },
  {
   "cell_type": "code",
   "execution_count": 93,
   "metadata": {},
   "outputs": [
    {
     "name": "stdout",
     "output_type": "stream",
     "text": [
      "26332\n",
      "50\n"
     ]
    }
   ],
   "source": [
    "# Vectorization of test dataset using avg_w2v\n",
    "\n",
    "test_sent_vectors = []; # the avg-w2v for each sentence/review is stored in this list\n",
    "for sent in X_test: # for each review/sentence\n",
    "    sent_vec = np.zeros(50) # as word vectors are of zero length 50, you might need to change this to 300 if you use google's w2v\n",
    "    cnt_words =0; # num of words with a valid vector in the sentence/review\n",
    "    for word in sent: # for each word in a review/sentence\n",
    "        if word in w2v_words:\n",
    "            vec = w2v_model.wv[word]\n",
    "            sent_vec += vec\n",
    "            cnt_words += 1\n",
    "    if cnt_words != 0:\n",
    "        sent_vec /= cnt_words\n",
    "    test_sent_vectors.append(sent_vec)\n",
    "print(len(test_sent_vectors))\n",
    "print(len(test_sent_vectors[0]))"
   ]
  },
  {
   "cell_type": "code",
   "execution_count": 94,
   "metadata": {},
   "outputs": [
    {
     "name": "stderr",
     "output_type": "stream",
     "text": [
      "\n",
      "  0%|                                                                                           | 0/15 [00:00<?, ?it/s]\n",
      "  7%|█████▌                                                                             | 1/15 [00:00<00:05,  2.48it/s]\n",
      " 13%|███████████                                                                        | 2/15 [00:39<02:36, 12.03s/it]\n",
      " 20%|████████████████▌                                                                  | 3/15 [01:19<04:03, 20.31s/it]\n",
      " 27%|██████████████████████▏                                                            | 4/15 [01:59<04:50, 26.41s/it]\n",
      " 33%|███████████████████████████▋                                                       | 5/15 [02:39<05:05, 30.53s/it]\n",
      " 40%|█████████████████████████████████▏                                                 | 6/15 [03:19<04:59, 33.30s/it]\n",
      " 47%|██████████████████████████████████████▋                                            | 7/15 [04:00<04:43, 35.42s/it]\n",
      " 53%|████████████████████████████████████████████▎                                      | 8/15 [04:42<04:22, 37.52s/it]\n",
      " 60%|█████████████████████████████████████████████████▊                                 | 9/15 [05:23<03:51, 38.58s/it]\n",
      " 67%|██████████████████████████████████████████████████████▋                           | 10/15 [06:05<03:17, 39.48s/it]\n",
      " 73%|████████████████████████████████████████████████████████████▏                     | 11/15 [06:46<02:40, 40.17s/it]\n",
      " 80%|█████████████████████████████████████████████████████████████████▌                | 12/15 [07:28<02:01, 40.64s/it]\n",
      " 87%|███████████████████████████████████████████████████████████████████████           | 13/15 [08:09<01:21, 40.60s/it]\n",
      " 93%|████████████████████████████████████████████████████████████████████████████▌     | 14/15 [08:59<00:43, 43.47s/it]\n",
      "100%|██████████████████████████████████████████████████████████████████████████████████| 15/15 [09:50<00:00, 45.65s/it]\n",
      "\n",
      "  0%|                                                                                           | 0/15 [00:00<?, ?it/s]\n",
      "  7%|█████▌                                                                             | 1/15 [00:00<00:07,  1.82it/s]\n",
      " 13%|███████████                                                                        | 2/15 [00:47<03:09, 14.58s/it]\n",
      " 20%|████████████████▌                                                                  | 3/15 [01:36<04:57, 24.82s/it]\n",
      " 27%|██████████████████████▏                                                            | 4/15 [02:25<05:52, 32.04s/it]\n",
      " 33%|███████████████████████████▋                                                       | 5/15 [03:14<06:10, 37.08s/it]\n",
      " 40%|█████████████████████████████████▏                                                 | 6/15 [04:03<06:07, 40.79s/it]\n",
      " 47%|██████████████████████████████████████▋                                            | 7/15 [04:53<05:47, 43.50s/it]\n",
      " 53%|████████████████████████████████████████████▎                                      | 8/15 [05:42<05:16, 45.19s/it]\n",
      " 60%|█████████████████████████████████████████████████▊                                 | 9/15 [06:32<04:39, 46.54s/it]\n",
      " 67%|██████████████████████████████████████████████████████▋                           | 10/15 [07:23<03:59, 47.92s/it]\n",
      " 73%|████████████████████████████████████████████████████████████▏                     | 11/15 [08:15<03:16, 49.11s/it]\n",
      " 80%|█████████████████████████████████████████████████████████████████▌                | 12/15 [09:05<02:27, 49.32s/it]\n",
      " 87%|███████████████████████████████████████████████████████████████████████           | 13/15 [09:56<01:39, 49.92s/it]\n",
      " 93%|████████████████████████████████████████████████████████████████████████████▌     | 14/15 [10:46<00:49, 49.84s/it]\n",
      "100%|██████████████████████████████████████████████████████████████████████████████████| 15/15 [11:36<00:00, 50.08s/it]\n",
      "\n",
      "  0%|                                                                                           | 0/15 [00:00<?, ?it/s]\n",
      "  7%|█████▌                                                                             | 1/15 [00:00<00:08,  1.59it/s]\n",
      " 13%|███████████                                                                        | 2/15 [00:53<03:31, 16.24s/it]\n",
      " 20%|████████████████▌                                                                  | 3/15 [01:46<05:28, 27.40s/it]\n",
      " 27%|██████████████████████▏                                                            | 4/15 [02:42<06:33, 35.79s/it]\n",
      " 33%|███████████████████████████▋                                                       | 5/15 [03:38<06:58, 41.90s/it]\n",
      " 40%|█████████████████████████████████▏                                                 | 6/15 [04:35<06:59, 46.59s/it]\n",
      " 47%|██████████████████████████████████████▋                                            | 7/15 [05:31<06:33, 49.21s/it]\n",
      " 53%|████████████████████████████████████████████▎                                      | 8/15 [06:28<06:02, 51.78s/it]\n",
      " 60%|█████████████████████████████████████████████████▊                                 | 9/15 [07:26<05:20, 53.40s/it]\n",
      " 67%|██████████████████████████████████████████████████████▋                           | 10/15 [08:23<04:33, 54.67s/it]\n",
      " 73%|████████████████████████████████████████████████████████████▏                     | 11/15 [09:17<03:37, 54.47s/it]\n",
      " 80%|█████████████████████████████████████████████████████████████████▌                | 12/15 [10:12<02:43, 54.45s/it]\n",
      " 87%|███████████████████████████████████████████████████████████████████████           | 13/15 [11:08<01:50, 55.12s/it]\n",
      " 93%|████████████████████████████████████████████████████████████████████████████▌     | 14/15 [12:06<00:55, 55.89s/it]\n",
      "100%|██████████████████████████████████████████████████████████████████████████████████| 15/15 [13:05<00:00, 56.76s/it]\n"
     ]
    }
   ],
   "source": [
    "param_list = [1,3,5,7,9,11,13,15,17,19,21,23,25,27,29]\n",
    "train_auc_list1 = []   # This contains area under curve value of first batch corresponding for each k\n",
    "train_auc_list2 = []   # for second batch \n",
    "train_auc_list3 = []   # for third batch\n",
    "\n",
    "# Testing whole training data at once takes a lot of memory which takes a lot of time .\n",
    "# There fore we are dividing training data into 3 parts and then we will calculate AUC\n",
    "    \n",
    "x_train_1 = train_sent_vectors[0:20000][:] # Row 0 to 19999 and all columns\n",
    "x_train_2 = train_sent_vectors[20000:40000][:]\n",
    "x_train_3 = train_sent_vectors[40000:61441][:]\n",
    "\n",
    "y_train_1 = Y_train[0:20000][:] # Row 0 to 19999 and all columns\n",
    "y_train_2 = Y_train[20000:40000][:]\n",
    "y_train_3 = Y_train[40000:61441][:]\n",
    "\n",
    "# Calculating training error for first batch\n",
    "for k in tqdm(range(1,30,2)):\n",
    "    clf = KNeighborsClassifier(n_neighbors=k,algorithm=\"kd_tree\",leaf_size=30,n_jobs=3)\n",
    "    clf.fit(x_train_1,y_train_1)\n",
    "\n",
    "    pre_probab = clf.predict_proba(x_train_1)[:,1] # Returns probability of positive class\n",
    "    \n",
    "    auc = roc_auc_score(y_train_1,pre_probab)\n",
    "    train_auc_list1.append(auc)\n",
    "\n",
    "# Calculating training error for second batch\n",
    "for k in tqdm(range(1,30,2)):\n",
    "    clf = KNeighborsClassifier(n_neighbors=k,algorithm=\"kd_tree\",leaf_size=30,n_jobs=3)\n",
    "    clf.fit(x_train_2,y_train_2)\n",
    "\n",
    "    pre_probab = clf.predict_proba(x_train_2)[:,1]\n",
    "    \n",
    "    auc = roc_auc_score(y_train_2,pre_probab)\n",
    "    train_auc_list2.append(auc)\n",
    "    \n",
    "\n",
    "# Calculating training error for third batch\n",
    "for k in tqdm(range(1,30,2)):\n",
    "    clf = KNeighborsClassifier(n_neighbors=k,algorithm=\"kd_tree\",leaf_size=30,n_jobs=3)\n",
    "    clf.fit(x_train_3,y_train_3)\n",
    "\n",
    "    pre_probab = clf.predict_proba(x_train_3)[:,1]\n",
    "    \n",
    "    auc = roc_auc_score(y_train_3,pre_probab)\n",
    "    train_auc_list3.append(auc)\n",
    "\n",
    "# Combining the result into one. \n",
    "train_auc_list = [(x+y+z)/3 for x,y,z in zip(train_auc_list1,train_auc_list2,train_auc_list3)]"
   ]
  },
  {
   "cell_type": "code",
   "execution_count": 95,
   "metadata": {},
   "outputs": [],
   "source": [
    "# 10 fold cross validation using time series splitting\n",
    "# Here X_train is train_sent_vectors and X_test is test_sent_vectors\n",
    "# Here vectorization results of previous section is used . Only KNN algorithm is changed\n",
    "tscv = TimeSeriesSplit(n_splits=10)\n",
    "auc_list=[]\n",
    "for k in range(1,30,2):\n",
    "    # KNN Classifier\n",
    "    clf = KNeighborsClassifier(n_neighbors=k,algorithm='kd_tree',leaf_size=40,n_jobs=3)\n",
    "    i=0\n",
    "    auc=0.0\n",
    "    for train_index,test_index in tscv.split(train_sent_vectors):\n",
    "        x_train = train_sent_vectors[0:train_index[-1]][:] # row 0 to train_index(excluding)\n",
    "        y_train = Y_train[0:train_index[-1]][:] # row 0 to train_index(excluding)\n",
    "        x_test = train_sent_vectors[train_index[-1]:test_index[-1]][:] # row from train_index to test_index will be selected\n",
    "        y_test = Y_train[train_index[-1]:test_index[-1]][:] # row from train_index to test_index(excluding) will be selected\n",
    "        \n",
    "        clf.fit(x_train,y_train)\n",
    "        predict_probab = clf.predict_proba(x_test)[:,1]\n",
    "        #print(len(x_test),len(y_test),len(predict_probab))\n",
    "        i += 1\n",
    "        auc += roc_auc_score(y_test,predict_probab)\n",
    "    \n",
    "    auc_list.append(auc/i)"
   ]
  },
  {
   "cell_type": "code",
   "execution_count": 96,
   "metadata": {},
   "outputs": [
    {
     "data": {
      "image/png": "[encoded data removed]",
      "text/plain": [
       "<matplotlib.figure.Figure at 0x1d79d261e80>"
      ]
     },
     "metadata": {},
     "output_type": "display_data"
    }
   ],
   "source": [
    "# Plotting graph of auc and parameter for training and cross validation error\n",
    "plot_knn_vs_auc(train_auc_list,auc_list)"
   ]
  },
  {
   "cell_type": "code",
   "execution_count": 97,
   "metadata": {},
   "outputs": [
    {
     "name": "stdout",
     "output_type": "stream",
     "text": [
      "Final AUC is 0.89\n"
     ]
    }
   ],
   "source": [
    "# Training the final model\n",
    "final_clf = KNeighborsClassifier(n_neighbors=25,algorithm='kd_tree',leaf_size=30,n_jobs=3)\n",
    "\n",
    "final_clf.fit(train_sent_vectors,Y_train)\n",
    "\n",
    "predict_probab = final_clf.predict_proba(test_sent_vectors)[:,1] # Returns the class probabality of +ve class only\n",
    "predict_y = final_clf.predict(test_sent_vectors)\n",
    "predict_y_train = final_clf.predict(train_sent_vectors)\n",
    "auc = roc_auc_score(Y_test,predict_probab)\n",
    "\n",
    "print(\"Final AUC is {:.2f}\".format(auc))"
   ]
  },
  {
   "cell_type": "code",
   "execution_count": 98,
   "metadata": {},
   "outputs": [
    {
     "name": "stdout",
     "output_type": "stream",
     "text": [
      "Confusion matrix\n"
     ]
    },
    {
     "data": {
      "image/png": "[encoded data removed]",
      "text/plain": [
       "<matplotlib.figure.Figure at 0x1d7a82b6c88>"
      ]
     },
     "metadata": {},
     "output_type": "display_data"
    }
   ],
   "source": [
    "# Plotting confusion matrix\n",
    "confusion_matrix_plot(Y_test,predict_y)"
   ]
  },
  {
   "cell_type": "code",
   "execution_count": 101,
   "metadata": {},
   "outputs": [
    {
     "data": {
      "image/png": "[encoded data removed]",
      "text/plain": [
       "<matplotlib.figure.Figure at 0x1d7b05c8668>"
      ]
     },
     "metadata": {},
     "output_type": "display_data"
    }
   ],
   "source": [
    "## Plotting roc curve\n",
    "plot_roc_curve(Y_test,predict_y,Y_train,predict_y_train)"
   ]
  },
  {
   "cell_type": "markdown",
   "metadata": {},
   "source": [
    "### [5.2.4] Applying KNN kd-tree on TFIDF W2V,<font color='red'> SET 4</font>"
   ]
  },
  {
   "cell_type": "code",
   "execution_count": 114,
   "metadata": {},
   "outputs": [
    {
     "name": "stderr",
     "output_type": "stream",
     "text": [
      "\n",
      "  0%|                                                                                           | 0/15 [00:00<?, ?it/s]\n",
      "  7%|█████▌                                                                             | 1/15 [00:17<04:10, 17.92s/it]\n",
      " 13%|███████████                                                                        | 2/15 [00:35<03:52, 17.92s/it]\n",
      " 20%|████████████████▌                                                                  | 3/15 [00:56<03:44, 18.70s/it]\n",
      " 27%|██████████████████████▏                                                            | 4/15 [01:16<03:30, 19.17s/it]\n",
      " 33%|███████████████████████████▋                                                       | 5/15 [01:37<03:16, 19.65s/it]\n",
      " 40%|█████████████████████████████████▏                                                 | 6/15 [01:57<02:59, 19.92s/it]\n",
      " 47%|██████████████████████████████████████▋                                            | 7/15 [02:18<02:41, 20.13s/it]\n",
      " 53%|████████████████████████████████████████████▎                                      | 8/15 [02:38<02:21, 20.20s/it]\n",
      " 60%|█████████████████████████████████████████████████▊                                 | 9/15 [02:59<02:02, 20.43s/it]\n",
      " 67%|██████████████████████████████████████████████████████▋                           | 10/15 [03:21<01:44, 20.80s/it]\n",
      " 73%|████████████████████████████████████████████████████████████▏                     | 11/15 [03:43<01:24, 21.01s/it]\n",
      " 80%|█████████████████████████████████████████████████████████████████▌                | 12/15 [04:05<01:04, 21.51s/it]\n",
      " 87%|███████████████████████████████████████████████████████████████████████           | 13/15 [04:28<00:43, 21.75s/it]\n",
      " 93%|████████████████████████████████████████████████████████████████████████████▌     | 14/15 [04:49<00:21, 21.61s/it]\n",
      "100%|██████████████████████████████████████████████████████████████████████████████████| 15/15 [05:10<00:00, 21.46s/it]\n",
      "\n",
      "  0%|                                                                                           | 0/15 [00:00<?, ?it/s]\n",
      "  7%|█████▌                                                                             | 1/15 [00:20<04:51, 20.85s/it]\n",
      " 13%|███████████                                                                        | 2/15 [00:42<04:32, 20.99s/it]\n",
      " 20%|████████████████▌                                                                  | 3/15 [01:03<04:12, 21.07s/it]\n",
      " 27%|██████████████████████▏                                                            | 4/15 [01:24<03:50, 21.00s/it]\n",
      " 33%|███████████████████████████▋                                                       | 5/15 [01:45<03:31, 21.19s/it]\n",
      " 40%|█████████████████████████████████▏                                                 | 6/15 [02:08<03:15, 21.73s/it]\n",
      " 47%|██████████████████████████████████████▋                                            | 7/15 [02:29<02:51, 21.48s/it]\n",
      " 53%|████████████████████████████████████████████▎                                      | 8/15 [02:51<02:29, 21.43s/it]\n",
      " 60%|█████████████████████████████████████████████████▊                                 | 9/15 [03:13<02:10, 21.75s/it]\n",
      " 67%|██████████████████████████████████████████████████████▋                           | 10/15 [03:35<01:48, 21.70s/it]\n",
      " 73%|████████████████████████████████████████████████████████████▏                     | 11/15 [03:57<01:27, 21.76s/it]\n",
      " 80%|█████████████████████████████████████████████████████████████████▌                | 12/15 [04:18<01:04, 21.67s/it]\n",
      " 87%|███████████████████████████████████████████████████████████████████████           | 13/15 [04:39<00:43, 21.58s/it]\n",
      " 93%|████████████████████████████████████████████████████████████████████████████▌     | 14/15 [05:01<00:21, 21.49s/it]\n",
      "100%|██████████████████████████████████████████████████████████████████████████████████| 15/15 [05:21<00:00, 21.28s/it]\n",
      "\n",
      "  0%|                                                                                           | 0/15 [00:00<?, ?it/s]\n",
      "  7%|█████▌                                                                             | 1/15 [00:27<06:30, 27.87s/it]\n",
      " 13%|███████████                                                                        | 2/15 [00:54<05:57, 27.53s/it]\n",
      " 20%|████████████████▌                                                                  | 3/15 [01:22<05:30, 27.54s/it]\n",
      " 27%|██████████████████████▏                                                            | 4/15 [01:49<05:03, 27.59s/it]\n",
      " 33%|███████████████████████████▋                                                       | 5/15 [02:17<04:35, 27.55s/it]\n",
      " 40%|█████████████████████████████████▏                                                 | 6/15 [02:43<04:05, 27.26s/it]\n",
      " 47%|██████████████████████████████████████▋                                            | 7/15 [03:11<03:38, 27.27s/it]\n",
      " 53%|████████████████████████████████████████████▎                                      | 8/15 [03:39<03:12, 27.51s/it]\n",
      " 60%|█████████████████████████████████████████████████▊                                 | 9/15 [04:06<02:45, 27.52s/it]\n",
      " 67%|██████████████████████████████████████████████████████▋                           | 10/15 [04:34<02:17, 27.50s/it]\n",
      " 73%|████████████████████████████████████████████████████████████▏                     | 11/15 [05:01<01:49, 27.27s/it]\n",
      " 80%|█████████████████████████████████████████████████████████████████▌                | 12/15 [05:27<01:21, 27.07s/it]\n",
      " 87%|███████████████████████████████████████████████████████████████████████           | 13/15 [05:54<00:54, 27.08s/it]\n",
      " 93%|████████████████████████████████████████████████████████████████████████████▌     | 14/15 [06:21<00:27, 27.05s/it]\n",
      "100%|██████████████████████████████████████████████████████████████████████████████████| 15/15 [06:50<00:00, 27.43s/it]\n"
     ]
    }
   ],
   "source": [
    "# Using vectorized data from previous section\n",
    "\n",
    "# Calculating training error .\n",
    "# Because of large amount of data. we are processing data into three batches here.\n",
    "# After processing all the results of these batches are merged into one .\n",
    "\n",
    "train_auc_list1 = []   # This contains area under curve value of first batch corresponding for each k\n",
    "train_auc_list2 = []   # for second batch \n",
    "train_auc_list3 = []   # for third batch\n",
    "\n",
    "# Testing whole training data at once takes a lot of memory which takes a lot of time .\n",
    "# There fore we are dividing training data into 3 parts and then we will calculate AUC\n",
    "    \n",
    "x_train_1 = train_tfidf_sent_vectors[0:20000][:] # Row 0 to 19999 and all columns\n",
    "x_train_2 = train_tfidf_sent_vectors[20000:40000][:]\n",
    "x_train_3 = train_tfidf_sent_vectors[40000:61441][:]\n",
    "\n",
    "y_train_1 = Y_train[0:20000][:] # Row 0 to 19999 and all columns\n",
    "y_train_2 = Y_train[20000:40000][:]\n",
    "y_train_3 = Y_train[40000:61441][:]\n",
    "\n",
    "# Calculating training error for first batch\n",
    "for k in tqdm(range(1,30,2)):\n",
    "    clf = KNeighborsClassifier(n_neighbors=k,algorithm=\"kd_tree\",leaf_size=40,n_jobs=3)\n",
    "    clf.fit(x_train_1,y_train_1)\n",
    "\n",
    "    pre_probab = clf.predict_proba(x_train_1)[:,1] # Returns probability of positive class\n",
    "    \n",
    "    auc = roc_auc_score(y_train_1,pre_probab)\n",
    "    train_auc_list1.append(auc)\n",
    "\n",
    "# Calculating training error for second batch\n",
    "for k in tqdm(range(1,30,2)):\n",
    "    clf = KNeighborsClassifier(n_neighbors=k,algorithm=\"kd_tree\",leaf_size=40,n_jobs=3)\n",
    "    clf.fit(x_train_2,y_train_2)\n",
    "\n",
    "    pre_probab = clf.predict_proba(x_train_2)[:,1]\n",
    "    \n",
    "    auc = roc_auc_score(y_train_2,pre_probab)\n",
    "    train_auc_list2.append(auc)\n",
    "    \n",
    "\n",
    "# Calculating training error for third batch\n",
    "for k in tqdm(range(1,30,2)):\n",
    "    clf = KNeighborsClassifier(n_neighbors=k,algorithm=\"kd_tree\",leaf_size=40,n_jobs=3)\n",
    "    clf.fit(x_train_3,y_train_3)\n",
    "\n",
    "    pre_probab = clf.predict_proba(x_train_3)[:,1]\n",
    "    \n",
    "    auc = roc_auc_score(y_train_3,pre_probab)\n",
    "    train_auc_list3.append(auc)\n",
    "    \n",
    "# Combining results together.\n",
    "train_auc_list = [(x+y+z)/3 for x,y,z in zip(train_auc_list1,train_auc_list2,train_auc_list3)]"
   ]
  },
  {
   "cell_type": "code",
   "execution_count": 115,
   "metadata": {},
   "outputs": [],
   "source": [
    "# 10 fold cross validation using time series splitting\n",
    "from sklearn.model_selection import TimeSeriesSplit\n",
    "tscv = TimeSeriesSplit()\n",
    "auc_list = []\n",
    "\n",
    "for k in range(1,30,2):\n",
    "    # KNN Classifier\n",
    "    clf = KNeighborsClassifier(n_neighbors=k,algorithm='kd_tree',leaf_size=40,n_jobs=3)\n",
    "    i=0\n",
    "    auc=0.0\n",
    "    for train_index,test_index in tscv.split(train_tfidf_sent_vectors):\n",
    "        x_train = train_tfidf_sent_vectors[0:train_index[-1]][:] # row 0 to train_index(excluding)\n",
    "        y_train = Y_train[0:train_index[-1]][:] # row 0 to train_index(excluding)\n",
    "        x_test = train_tfidf_sent_vectors[train_index[-1]:test_index[-1]][:] # row from train_index to test_index will be selected\n",
    "        y_test = Y_train[train_index[-1]:test_index[-1]][:] # row from train_index to test_index(excluding) will be selected\n",
    "    \n",
    "        clf.fit(x_train,y_train)\n",
    "    \n",
    "        predict_probab = clf.predict_proba(x_test)[:,1] # Returns probability of for positive class only.\n",
    "        i += 1\n",
    "        auc += roc_auc_score(y_test,predict_probab)\n",
    "    \n",
    "    auc_list.append(auc/i) # Averaging auc for all 10 folds ."
   ]
  },
  {
   "cell_type": "code",
   "execution_count": 117,
   "metadata": {},
   "outputs": [
    {
     "data": {
      "image/png": "[encoded data removed]",
      "text/plain": [
       "<matplotlib.figure.Figure at 0x1d7aed393c8>"
      ]
     },
     "metadata": {},
     "output_type": "display_data"
    }
   ],
   "source": [
    "# Plotting graph of auc and parameter for training and cross validation error\n",
    "plot_knn_vs_auc(train_auc_list,auc_list)"
   ]
  },
  {
   "cell_type": "code",
   "execution_count": 118,
   "metadata": {},
   "outputs": [
    {
     "name": "stdout",
     "output_type": "stream",
     "text": [
      "AUC of model is 0.50\n"
     ]
    }
   ],
   "source": [
    "# Training the final model\n",
    "final_clf = KNeighborsClassifier(n_neighbors=11,algorithm='kd_tree',leaf_size=40,n_jobs=3)\n",
    "\n",
    "final_clf.fit(train_tfidf_sent_vectors,Y_train)\n",
    "\n",
    "predict_probab = final_clf.predict_proba(test_tfidf_sent_vectors)[:,1] # Returns the class probabality of +ve class only\n",
    "\n",
    "auc = roc_auc_score(Y_test,predict_probab)\n",
    "\n",
    "print(\"AUC of model is {:.2f}\".format(auc))"
   ]
  },
  {
   "cell_type": "code",
   "execution_count": 119,
   "metadata": {},
   "outputs": [],
   "source": [
    "# Train and test prediction \n",
    "predict_y = final_clf.predict(test_tfidf_sent_vectors)\n",
    "predict_y_train = final_clf.predict(train_tfidf_sent_vectors)\n"
   ]
  },
  {
   "cell_type": "code",
   "execution_count": 120,
   "metadata": {},
   "outputs": [
    {
     "name": "stdout",
     "output_type": "stream",
     "text": [
      "Confusion matrix\n"
     ]
    },
    {
     "data": {
      "image/png": "[encoded data removed]",
      "text/plain": [
       "<matplotlib.figure.Figure at 0x1d7aecc67f0>"
      ]
     },
     "metadata": {},
     "output_type": "display_data"
    }
   ],
   "source": [
    "# Plotting confusion matrix , precision and recall matrix\n",
    "confusion_matrix_plot(Y_test,predict_y)\n"
   ]
  },
  {
   "cell_type": "code",
   "execution_count": 121,
   "metadata": {},
   "outputs": [
    {
     "data": {
      "image/png": "[encoded data removed]",
      "text/plain": [
       "<matplotlib.figure.Figure at 0x1d7abbd9ef0>"
      ]
     },
     "metadata": {},
     "output_type": "display_data"
    }
   ],
   "source": [
    "# Plotting ROC Curve\n",
    "plot_roc_curve(Y_test,predict_y,Y_train,predict_y_train)"
   ]
  },
  {
   "cell_type": "markdown",
   "metadata": {},
   "source": [
    "# [6] Conclusions"
   ]
  },
  {
   "cell_type": "code",
   "execution_count": 1,
   "metadata": {},
   "outputs": [
    {
     "name": "stdout",
     "output_type": "stream",
     "text": [
      "+--------------------+--------+------+\n",
      "|     Model Type     | Best K | AUC  |\n",
      "+--------------------+--------+------+\n",
      "|        BOW         |   21   | 0.67 |\n",
      "|       TfIdf        |   25   | 0.51 |\n",
      "|      Avg W2V       |   17   | 0.87 |\n",
      "| TfIdf Weighted W2V |   21   | 0.50 |\n",
      "+--------------------+--------+------+\n"
     ]
    }
   ],
   "source": [
    "from prettytable import PrettyTable\n",
    "\n",
    "x = PrettyTable()\n",
    "\n",
    "\n",
    "x.field_names = [\"Model Type\",\"Best K\",\"AUC\",]\n",
    "\n",
    "x.add_row([\"BOW\",\"21\",\"0.67\"])\n",
    "x.add_row([\"TfIdf\",\"25\",\"0.51\"])\n",
    "x.add_row([\"Avg W2V\",\"17\",\"0.87\"])\n",
    "x.add_row([\"TfIdf Weighted W2V\",\"21\",\"0.50\"])\n",
    "print(x)"
   ]
  },
  {
   "cell_type": "code",
   "execution_count": null,
   "metadata": {},
   "outputs": [],
   "source": []
  }
 ],
 "metadata": {
  "kernelspec": {
   "display_name": "Python 3",
   "language": "python",
   "name": "python3"
  },
  "language_info": {
   "codemirror_mode": {
    "name": "ipython",
    "version": 3
   },
   "file_extension": ".py",
   "mimetype": "text/x-python",
   "name": "python",
   "nbconvert_exporter": "python",
   "pygments_lexer": "ipython3",
   "version": "3.6.5"
  }
 },
 "nbformat": 4,
 "nbformat_minor": 2
}
